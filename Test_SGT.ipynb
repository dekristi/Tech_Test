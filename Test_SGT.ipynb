{
 "cells": [
  {
   "cell_type": "code",
   "execution_count": 5,
   "metadata": {},
   "outputs": [],
   "source": [
    "import re"
   ]
  },
  {
   "cell_type": "code",
   "execution_count": 4,
   "metadata": {},
   "outputs": [],
   "source": [
    "phone_text = \"\"\"\n",
    "+1 555 123 4567\n",
    "+1 555 123 456\n",
    "+1 555 123 45\n",
    "Latvia +371 20 123 456\n",
    "Lithuania +370 5 123 456\n",
    "Estonia +372 5123 456\n",
    "USA +1 408 123 4567\n",
    "sometimes we write our phone numbers like this: 555 123 4560\n",
    "sometimes we write our phone numbers like this: 555-123-4561\n",
    "sometimes we write our phone numbers like this: 555.123.4562 rarely\n",
    "also we use parentheses: (555) 123-4563\n",
    "so the assignment is to write a regular expression that will match all of these phone numbers\n",
    "\"\"\""
   ]
  },
  {
   "cell_type": "code",
   "execution_count": 81,
   "metadata": {},
   "outputs": [],
   "source": [
    "phone_num = re.findall(r\"[^a-zA-Z\\n:]+[\\s]+\", phone_text)"
   ]
  },
  {
   "cell_type": "code",
   "execution_count": 80,
   "metadata": {},
   "outputs": [
    {
     "name": "stdout",
     "output_type": "stream",
     "text": [
      "['+1 555 123 4567\\n+', '1 555 123 456\\n+', '1 555 123 45\\nL', ' +371 20 123 456\\nL', ' +370 5 123 456\\nE', ' +372 5123 456\\nU', ' +1 408 123 4567\\ns', ' 555 123 4560\\ns', ' 555-123-4561\\ns', ' 555.123.4562 r', ' (555) 123-4563\\ns']\n"
     ]
    }
   ],
   "source": [
    "print(phone_num)"
   ]
  },
  {
   "cell_type": "code",
   "execution_count": null,
   "metadata": {},
   "outputs": [],
   "source": []
  }
 ],
 "metadata": {
  "kernelspec": {
   "display_name": "Python 3.10.6 ('venv': venv)",
   "language": "python",
   "name": "python3"
  },
  "language_info": {
   "codemirror_mode": {
    "name": "ipython",
    "version": 3
   },
   "file_extension": ".py",
   "mimetype": "text/x-python",
   "name": "python",
   "nbconvert_exporter": "python",
   "pygments_lexer": "ipython3",
   "version": "3.10.6"
  },
  "orig_nbformat": 4,
  "vscode": {
   "interpreter": {
    "hash": "3a02c2c5e2ea07a08342dc3b0617d633531a0a20993352e8d8cb30cc84856c47"
   }
  }
 },
 "nbformat": 4,
 "nbformat_minor": 2
}
