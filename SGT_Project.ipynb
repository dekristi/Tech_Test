{
 "cells": [
  {
   "cell_type": "markdown",
   "metadata": {},
   "source": [
    "## **Python and Big Data Analytics Course Project**\n",
    "\n",
    "## *Agricultural Production Analysis*\n",
    "\n",
    "<img src=\"https://cdn.pixabay.com/photo/2014/12/11/02/55/cereals-563796__340.jpg\" width=1200  height=450/>\n",
    "\n",
    "Kristine Dege\n",
    "\n",
    "Grazina"
   ]
  },
  {
   "cell_type": "markdown",
   "metadata": {},
   "source": [
    "##### **The Dataset used in the Course Project is downloaded from the website https://data.world/agriculture/**\n",
    "##### Crop statistics for 173 products in Africa, the Americas, Asia, Europe, and Oceania (in the Course Project Eastern Europe Data will be used only).\n",
    "##### Crops Primary, Fibre Crops Crop statistics are recorded for 173 products, covering the following categories: Crops Primary, Fibre Crops Primary, Cereals, Coarse Grain, Citrus Fruit, Fruit, Jute & Jute-like Fibres, Oilcakes Equivalent, Oil crops Primary, Pulses, Roots and Tubers, Treenuts and Vegetables and Melons. Data are expressed in terms of area harvested, production quantity, yield and seed quantity. The objective is to comprehensively cover production of all primary crops for all countries and regions in the world.\n",
    "##### Data source: The Food and Agriculture Organization of the United Nations (FAO).\n",
    "\n",
    "##### The objective of the Project is to ..........!!!!!!\n",
    "\n",
    "*The full path used to get the dataset:*\n",
    "* browser = webdriver.Edge('C:/Users/Kristine/Drivers/msedgedriver.exe')\n",
    "* time.sleep(2)\n",
    "* url = 'https://data.world/agriculture/'\n",
    "* browser.get(url)\n",
    "* dataset_button = browser.find_element(By.XPATH, '//*[@id=\"profile_view.main_tabs-pane-overview\"]/div/div/div[1]/div/ul/li[2]/div').click() *# Click on Datasets button.*\n",
    "* crop_pr_but = browser.find_element(By.XPATH, '//*[@id=\"profile_view.main_tabs-pane-resources\"]/div/div/div[2]/div[2]/div/div/div[9]/div/div[2]/div[1]/a').click() *# Click Crop_Production datasets button.  Overview and discription of datasets are available.*\n",
    "* crop_ds = browser.find_element(By.XPATH, '//*[@id=\"dataset_view.main_tabs-pane-details\"]/div/div/div[1]/div[4]/div[8]/div/div/div[1]/div/div[1]/a[2]/span').click() *# In case you are not a registered user then sign-up model will be opened. There is an option to proceed with Google/ Facebook/ GitHub/ Twitter account.*\n",
    "\n",
    "* browser.find_element(By.XPATH, '//*[@id=\"create_user.email\"]').send_keys(email)  \n",
    "* browser.find_element(By.XPATH, '//*[@id=\"create_user.displayName\"]').send_keys(Name)\n",
    "* browser.find_element(By.XPATH, '//*[@id=\"create_user.agentid\"]').send_keys(Username)\n",
    "* browser.find_element(By.XPATH, '//*[@id=\"create_user.password1\"]').send_keys(Password)\n",
    "* browser.find_element(By.XPATH, '/html/body/div[13]/div[2]/div/div/div/div/div[2]/div/div/div/form/button').click() *# Click on Continue button.*\n",
    "* browser.find_element(By.XPATH, '/html/body/div[2]/div[2]/div/div/div/div/div[2]/a').click() *# Click on button Create a Project.*\n",
    "* browser.find_element(By.XPATH, '//*[@id=\"root\"]/div/div[2]/div[2]/div/div[1]/div[2]/div/div/div[4]/div/div/div/div/div[2]/div[1]/a').click() *# Now you should verify your e-mail address and then click on Crop Production dataset.*\n",
    "* browser.find_element(By.XPATH, '//*[@id=\"dataset_view.main_tabs-pane-details\"]/div/div/div[1]/div[4]/div[8]/div/div/div[1]/div/div[1]/a[2]').click() *# Click on dataset Crop Production in Eastern Europe.*\n",
    "* browser.find_element(By.XPATH, '//*[@id=\"file_renderer.modal_common.export_dropdown\"]/div/span[2]').click() *# Click on Download drop-down menu.*\n",
    "* browser.find_element(By.XPATH, '/html/body/div[2]/div/ul/span[1]/li/a/div[2]/div[1]').click() *# Click on Share URL. Now you can copy the path to download csv file from web-site.*"
   ]
  },
  {
   "cell_type": "code",
   "execution_count": 1,
   "metadata": {},
   "outputs": [],
   "source": [
    "import pandas as pd\n",
    "import matplotlib.pyplot as plt\n",
    "import datetime as dt\n",
    "from collections import Counter\n",
    "import seaborn as sns\n",
    "import geopandas as gpd\n",
    "import geocoder\n",
    "import requests\n",
    "from geopy.geocoders import Nominatim\n",
    "import pycountry_convert as pc\n",
    "import numpy as np"
   ]
  },
  {
   "cell_type": "code",
   "execution_count": 2,
   "metadata": {},
   "outputs": [],
   "source": [
    "df = pd.read_csv('https://query.data.world/s/zmbllbphuegmiqcjpgtnrl3xew2jxh')"
   ]
  },
  {
   "cell_type": "code",
   "execution_count": 3,
   "metadata": {},
   "outputs": [
    {
     "data": {
      "text/html": [
       "<div>\n",
       "<style scoped>\n",
       "    .dataframe tbody tr th:only-of-type {\n",
       "        vertical-align: middle;\n",
       "    }\n",
       "\n",
       "    .dataframe tbody tr th {\n",
       "        vertical-align: top;\n",
       "    }\n",
       "\n",
       "    .dataframe thead th {\n",
       "        text-align: right;\n",
       "    }\n",
       "</style>\n",
       "<table border=\"1\" class=\"dataframe\">\n",
       "  <thead>\n",
       "    <tr style=\"text-align: right;\">\n",
       "      <th></th>\n",
       "      <th>Area Code</th>\n",
       "      <th>Area</th>\n",
       "      <th>Item Code</th>\n",
       "      <th>Item</th>\n",
       "      <th>Element Code</th>\n",
       "      <th>Element</th>\n",
       "      <th>Unit</th>\n",
       "      <th>Y1961</th>\n",
       "      <th>Y1961F</th>\n",
       "      <th>Y1962</th>\n",
       "      <th>...</th>\n",
       "      <th>Y2015</th>\n",
       "      <th>Y2015F</th>\n",
       "      <th>Y2016</th>\n",
       "      <th>Y2016F</th>\n",
       "      <th>Y2017</th>\n",
       "      <th>Y2017F</th>\n",
       "      <th>Y2018</th>\n",
       "      <th>Y2018F</th>\n",
       "      <th>Y2019</th>\n",
       "      <th>Y2019F</th>\n",
       "    </tr>\n",
       "  </thead>\n",
       "  <tbody>\n",
       "    <tr>\n",
       "      <th>4328</th>\n",
       "      <td>104</td>\n",
       "      <td>Ireland</td>\n",
       "      <td>401</td>\n",
       "      <td>Chillies and peppers, green</td>\n",
       "      <td>5510</td>\n",
       "      <td>Production</td>\n",
       "      <td>tonnes</td>\n",
       "      <td>NaN</td>\n",
       "      <td>NaN</td>\n",
       "      <td>NaN</td>\n",
       "      <td>...</td>\n",
       "      <td>288.0</td>\n",
       "      <td>Im</td>\n",
       "      <td>357.0</td>\n",
       "      <td>Im</td>\n",
       "      <td>340.0</td>\n",
       "      <td>Im</td>\n",
       "      <td>NaN</td>\n",
       "      <td>NaN</td>\n",
       "      <td>NaN</td>\n",
       "      <td>NaN</td>\n",
       "    </tr>\n",
       "    <tr>\n",
       "      <th>8820</th>\n",
       "      <td>203</td>\n",
       "      <td>Spain</td>\n",
       "      <td>711</td>\n",
       "      <td>Anise, badian, fennel, coriander</td>\n",
       "      <td>5419</td>\n",
       "      <td>Yield</td>\n",
       "      <td>hg/ha</td>\n",
       "      <td>NaN</td>\n",
       "      <td>NaN</td>\n",
       "      <td>NaN</td>\n",
       "      <td>...</td>\n",
       "      <td>6226.0</td>\n",
       "      <td>Fc</td>\n",
       "      <td>6291.0</td>\n",
       "      <td>Fc</td>\n",
       "      <td>7153.0</td>\n",
       "      <td>Fc</td>\n",
       "      <td>NaN</td>\n",
       "      <td>NaN</td>\n",
       "      <td>NaN</td>\n",
       "      <td>NaN</td>\n",
       "    </tr>\n",
       "    <tr>\n",
       "      <th>9404</th>\n",
       "      <td>211</td>\n",
       "      <td>Switzerland</td>\n",
       "      <td>515</td>\n",
       "      <td>Apples</td>\n",
       "      <td>5419</td>\n",
       "      <td>Yield</td>\n",
       "      <td>hg/ha</td>\n",
       "      <td>999259.0</td>\n",
       "      <td>Fc</td>\n",
       "      <td>1000833.0</td>\n",
       "      <td>...</td>\n",
       "      <td>554621.0</td>\n",
       "      <td>Fc</td>\n",
       "      <td>589777.0</td>\n",
       "      <td>Fc</td>\n",
       "      <td>383248.0</td>\n",
       "      <td>Fc</td>\n",
       "      <td>783883.0</td>\n",
       "      <td>Fc</td>\n",
       "      <td>507832.0</td>\n",
       "      <td>Fc</td>\n",
       "    </tr>\n",
       "    <tr>\n",
       "      <th>2994</th>\n",
       "      <td>67</td>\n",
       "      <td>Finland</td>\n",
       "      <td>463</td>\n",
       "      <td>Vegetables, fresh nes</td>\n",
       "      <td>5510</td>\n",
       "      <td>Production</td>\n",
       "      <td>tonnes</td>\n",
       "      <td>19400.0</td>\n",
       "      <td>NaN</td>\n",
       "      <td>11300.0</td>\n",
       "      <td>...</td>\n",
       "      <td>12231.0</td>\n",
       "      <td>NaN</td>\n",
       "      <td>12269.0</td>\n",
       "      <td>NaN</td>\n",
       "      <td>12431.0</td>\n",
       "      <td>NaN</td>\n",
       "      <td>0.0</td>\n",
       "      <td>NaN</td>\n",
       "      <td>0.0</td>\n",
       "      <td>NaN</td>\n",
       "    </tr>\n",
       "    <tr>\n",
       "      <th>5102</th>\n",
       "      <td>126</td>\n",
       "      <td>Lithuania</td>\n",
       "      <td>426</td>\n",
       "      <td>Carrots and turnips</td>\n",
       "      <td>5510</td>\n",
       "      <td>Production</td>\n",
       "      <td>tonnes</td>\n",
       "      <td>NaN</td>\n",
       "      <td>NaN</td>\n",
       "      <td>NaN</td>\n",
       "      <td>...</td>\n",
       "      <td>43751.0</td>\n",
       "      <td>NaN</td>\n",
       "      <td>49315.0</td>\n",
       "      <td>NaN</td>\n",
       "      <td>41902.0</td>\n",
       "      <td>NaN</td>\n",
       "      <td>48380.0</td>\n",
       "      <td>NaN</td>\n",
       "      <td>45300.0</td>\n",
       "      <td>NaN</td>\n",
       "    </tr>\n",
       "  </tbody>\n",
       "</table>\n",
       "<p>5 rows × 125 columns</p>\n",
       "</div>"
      ],
      "text/plain": [
       "      Area Code         Area  Item Code                              Item  \\\n",
       "4328        104      Ireland        401       Chillies and peppers, green   \n",
       "8820        203        Spain        711  Anise, badian, fennel, coriander   \n",
       "9404        211  Switzerland        515                            Apples   \n",
       "2994         67      Finland        463             Vegetables, fresh nes   \n",
       "5102        126    Lithuania        426               Carrots and turnips   \n",
       "\n",
       "      Element Code     Element    Unit     Y1961 Y1961F      Y1962  ...  \\\n",
       "4328          5510  Production  tonnes       NaN    NaN        NaN  ...   \n",
       "8820          5419       Yield   hg/ha       NaN    NaN        NaN  ...   \n",
       "9404          5419       Yield   hg/ha  999259.0     Fc  1000833.0  ...   \n",
       "2994          5510  Production  tonnes   19400.0    NaN    11300.0  ...   \n",
       "5102          5510  Production  tonnes       NaN    NaN        NaN  ...   \n",
       "\n",
       "         Y2015  Y2015F     Y2016  Y2016F     Y2017  Y2017F     Y2018  Y2018F  \\\n",
       "4328     288.0      Im     357.0      Im     340.0      Im       NaN     NaN   \n",
       "8820    6226.0      Fc    6291.0      Fc    7153.0      Fc       NaN     NaN   \n",
       "9404  554621.0      Fc  589777.0      Fc  383248.0      Fc  783883.0      Fc   \n",
       "2994   12231.0     NaN   12269.0     NaN   12431.0     NaN       0.0     NaN   \n",
       "5102   43751.0     NaN   49315.0     NaN   41902.0     NaN   48380.0     NaN   \n",
       "\n",
       "         Y2019  Y2019F  \n",
       "4328       NaN     NaN  \n",
       "8820       NaN     NaN  \n",
       "9404  507832.0      Fc  \n",
       "2994       0.0     NaN  \n",
       "5102   45300.0     NaN  \n",
       "\n",
       "[5 rows x 125 columns]"
      ]
     },
     "execution_count": 3,
     "metadata": {},
     "output_type": "execute_result"
    }
   ],
   "source": [
    "df.sample(5)"
   ]
  },
  {
   "cell_type": "code",
   "execution_count": 15,
   "metadata": {},
   "outputs": [
    {
     "data": {
      "text/plain": [
       "(10557, 125)"
      ]
     },
     "execution_count": 15,
     "metadata": {},
     "output_type": "execute_result"
    }
   ],
   "source": [
    "df.shape"
   ]
  },
  {
   "cell_type": "code",
   "execution_count": 16,
   "metadata": {},
   "outputs": [
    {
     "name": "stdout",
     "output_type": "stream",
     "text": [
      "<class 'pandas.core.frame.DataFrame'>\n",
      "RangeIndex: 10557 entries, 0 to 10556\n",
      "Columns: 125 entries, Area Code to Y2019F\n",
      "dtypes: float64(59), int64(3), object(63)\n",
      "memory usage: 10.1+ MB\n"
     ]
    }
   ],
   "source": [
    "df.info()"
   ]
  },
  {
   "cell_type": "code",
   "execution_count": 29,
   "metadata": {},
   "outputs": [
    {
     "data": {
      "text/html": [
       "<div>\n",
       "<style scoped>\n",
       "    .dataframe tbody tr th:only-of-type {\n",
       "        vertical-align: middle;\n",
       "    }\n",
       "\n",
       "    .dataframe tbody tr th {\n",
       "        vertical-align: top;\n",
       "    }\n",
       "\n",
       "    .dataframe thead th {\n",
       "        text-align: right;\n",
       "    }\n",
       "</style>\n",
       "<table border=\"1\" class=\"dataframe\">\n",
       "  <thead>\n",
       "    <tr style=\"text-align: right;\">\n",
       "      <th></th>\n",
       "      <th>Area Code</th>\n",
       "      <th>Area</th>\n",
       "      <th>Item Code</th>\n",
       "      <th>Item</th>\n",
       "      <th>Element Code</th>\n",
       "      <th>Element</th>\n",
       "      <th>Unit</th>\n",
       "      <th>Y1961</th>\n",
       "      <th>Y1962</th>\n",
       "      <th>Y1963</th>\n",
       "      <th>...</th>\n",
       "      <th>Y2010</th>\n",
       "      <th>Y2011</th>\n",
       "      <th>Y2012</th>\n",
       "      <th>Y2013</th>\n",
       "      <th>Y2014</th>\n",
       "      <th>Y2015</th>\n",
       "      <th>Y2016</th>\n",
       "      <th>Y2017</th>\n",
       "      <th>Y2018</th>\n",
       "      <th>Y2019</th>\n",
       "    </tr>\n",
       "  </thead>\n",
       "  <tbody>\n",
       "    <tr>\n",
       "      <th>0</th>\n",
       "      <td>3</td>\n",
       "      <td>Albania</td>\n",
       "      <td>515</td>\n",
       "      <td>Apples</td>\n",
       "      <td>5312</td>\n",
       "      <td>Area harvested</td>\n",
       "      <td>ha</td>\n",
       "      <td>NaN</td>\n",
       "      <td>NaN</td>\n",
       "      <td>NaN</td>\n",
       "      <td>...</td>\n",
       "      <td>3913.0</td>\n",
       "      <td>3450.0</td>\n",
       "      <td>3719.0</td>\n",
       "      <td>3838.0</td>\n",
       "      <td>3863.0</td>\n",
       "      <td>4008.0</td>\n",
       "      <td>4230.0</td>\n",
       "      <td>4346.0</td>\n",
       "      <td>4294.0</td>\n",
       "      <td>4407.0</td>\n",
       "    </tr>\n",
       "    <tr>\n",
       "      <th>1</th>\n",
       "      <td>3</td>\n",
       "      <td>Albania</td>\n",
       "      <td>515</td>\n",
       "      <td>Apples</td>\n",
       "      <td>5419</td>\n",
       "      <td>Yield</td>\n",
       "      <td>hg/ha</td>\n",
       "      <td>NaN</td>\n",
       "      <td>NaN</td>\n",
       "      <td>NaN</td>\n",
       "      <td>...</td>\n",
       "      <td>139545.0</td>\n",
       "      <td>185507.0</td>\n",
       "      <td>191718.0</td>\n",
       "      <td>197316.0</td>\n",
       "      <td>212426.0</td>\n",
       "      <td>228882.0</td>\n",
       "      <td>240028.0</td>\n",
       "      <td>221671.0</td>\n",
       "      <td>252387.0</td>\n",
       "      <td>240374.0</td>\n",
       "    </tr>\n",
       "    <tr>\n",
       "      <th>2</th>\n",
       "      <td>3</td>\n",
       "      <td>Albania</td>\n",
       "      <td>515</td>\n",
       "      <td>Apples</td>\n",
       "      <td>5510</td>\n",
       "      <td>Production</td>\n",
       "      <td>tonnes</td>\n",
       "      <td>10004.0</td>\n",
       "      <td>8039.0</td>\n",
       "      <td>7931.0</td>\n",
       "      <td>...</td>\n",
       "      <td>54604.0</td>\n",
       "      <td>64000.0</td>\n",
       "      <td>71300.0</td>\n",
       "      <td>75730.0</td>\n",
       "      <td>82060.0</td>\n",
       "      <td>91736.0</td>\n",
       "      <td>101532.0</td>\n",
       "      <td>96338.0</td>\n",
       "      <td>108375.0</td>\n",
       "      <td>105933.0</td>\n",
       "    </tr>\n",
       "  </tbody>\n",
       "</table>\n",
       "<p>3 rows × 66 columns</p>\n",
       "</div>"
      ],
      "text/plain": [
       "   Area Code     Area  Item Code    Item  Element Code         Element  \\\n",
       "0          3  Albania        515  Apples          5312  Area harvested   \n",
       "1          3  Albania        515  Apples          5419           Yield   \n",
       "2          3  Albania        515  Apples          5510      Production   \n",
       "\n",
       "     Unit    Y1961   Y1962   Y1963  ...     Y2010     Y2011     Y2012  \\\n",
       "0      ha      NaN     NaN     NaN  ...    3913.0    3450.0    3719.0   \n",
       "1   hg/ha      NaN     NaN     NaN  ...  139545.0  185507.0  191718.0   \n",
       "2  tonnes  10004.0  8039.0  7931.0  ...   54604.0   64000.0   71300.0   \n",
       "\n",
       "      Y2013     Y2014     Y2015     Y2016     Y2017     Y2018     Y2019  \n",
       "0    3838.0    3863.0    4008.0    4230.0    4346.0    4294.0    4407.0  \n",
       "1  197316.0  212426.0  228882.0  240028.0  221671.0  252387.0  240374.0  \n",
       "2   75730.0   82060.0   91736.0  101532.0   96338.0  108375.0  105933.0  \n",
       "\n",
       "[3 rows x 66 columns]"
      ]
     },
     "execution_count": 29,
     "metadata": {},
     "output_type": "execute_result"
    }
   ],
   "source": [
    "# Deleting all forecast columns as they are empty\n",
    "\n",
    "for col in df.columns:\n",
    "    if 'F' in col:\n",
    "        del df[col]\n",
    "   \n",
    "df.head(3)"
   ]
  },
  {
   "cell_type": "code",
   "execution_count": 30,
   "metadata": {},
   "outputs": [],
   "source": [
    "#Changing years column name from'Y2010' to numeric only\n",
    "\n",
    "df.columns = map(lambda x : x.replace(\"Y\", \"\"), df.columns)"
   ]
  },
  {
   "cell_type": "markdown",
   "metadata": {},
   "source": [
    "Only the first seven columns do not have null values. The reasons of null values are geographical area changes, climatic conditions in different areas, and vast product range. So, it is resonable to drop empty rows."
   ]
  },
  {
   "cell_type": "code",
   "execution_count": 31,
   "metadata": {},
   "outputs": [
    {
     "data": {
      "text/plain": [
       "(2672, 66)"
      ]
     },
     "execution_count": 31,
     "metadata": {},
     "output_type": "execute_result"
    }
   ],
   "source": [
    "df.dropna(inplace=True)\n",
    "df.shape"
   ]
  },
  {
   "cell_type": "markdown",
   "metadata": {},
   "source": [
    "By deleting empty forecast columns we have reduced the total number of columns from 125 to 66.\n",
    "\n",
    "By deleting empty rows we have reduced the total number of rows from 10557 to 2672."
   ]
  },
  {
   "cell_type": "code",
   "execution_count": 6,
   "metadata": {},
   "outputs": [
    {
     "data": {
      "text/plain": [
       "Roots and Tubers, Total    69\n",
       "Potatoes                   69\n",
       "Vegetables Primary         65\n",
       "Tomatoes                   64\n",
       "Wheat                      62\n",
       "                           ..\n",
       "Beans, dry                  3\n",
       "Vetches                     3\n",
       "Gooseberries                3\n",
       "Blueberries                 1\n",
       "Quinces                     1\n",
       "Name: Item, Length: 95, dtype: int64"
      ]
     },
     "execution_count": 6,
     "metadata": {},
     "output_type": "execute_result"
    }
   ],
   "source": [
    "df['Item'].value_counts()"
   ]
  },
  {
   "cell_type": "markdown",
   "metadata": {},
   "source": [
    "##### The most cultivated agriculture products are: roots, potatoes, barley, primary vegetables and cabbages.\n",
    "##### The less cultivated products in Europe are: tung nuts, green coffee, pepper, mangoes."
   ]
  },
  {
   "cell_type": "code",
   "execution_count": 32,
   "metadata": {},
   "outputs": [],
   "source": [
    "# Converting country name (column 'Area') into continent name\n",
    "\n",
    "def convert(row):\n",
    "    try:\n",
    "        cn_code = pc.country_name_to_country_alpha2(row.Area, cn_name_format='default')\n",
    "        conti_code = pc.country_alpha2_to_continent_code(cn_code)\n",
    "        return conti_code\n",
    "    except:\n",
    "        None # If can't find such country then return None"
   ]
  },
  {
   "cell_type": "code",
   "execution_count": 33,
   "metadata": {},
   "outputs": [
    {
     "data": {
      "text/html": [
       "<div>\n",
       "<style scoped>\n",
       "    .dataframe tbody tr th:only-of-type {\n",
       "        vertical-align: middle;\n",
       "    }\n",
       "\n",
       "    .dataframe tbody tr th {\n",
       "        vertical-align: top;\n",
       "    }\n",
       "\n",
       "    .dataframe thead th {\n",
       "        text-align: right;\n",
       "    }\n",
       "</style>\n",
       "<table border=\"1\" class=\"dataframe\">\n",
       "  <thead>\n",
       "    <tr style=\"text-align: right;\">\n",
       "      <th></th>\n",
       "      <th>Area Code</th>\n",
       "      <th>Area</th>\n",
       "      <th>Item Code</th>\n",
       "      <th>Item</th>\n",
       "      <th>Element Code</th>\n",
       "      <th>Element</th>\n",
       "      <th>Unit</th>\n",
       "      <th>1961</th>\n",
       "      <th>1962</th>\n",
       "      <th>1963</th>\n",
       "      <th>...</th>\n",
       "      <th>2011</th>\n",
       "      <th>2012</th>\n",
       "      <th>2013</th>\n",
       "      <th>2014</th>\n",
       "      <th>2015</th>\n",
       "      <th>2016</th>\n",
       "      <th>2017</th>\n",
       "      <th>2018</th>\n",
       "      <th>2019</th>\n",
       "      <th>Continent</th>\n",
       "    </tr>\n",
       "  </thead>\n",
       "  <tbody>\n",
       "    <tr>\n",
       "      <th>7520</th>\n",
       "      <td>183</td>\n",
       "      <td>Romania</td>\n",
       "      <td>267</td>\n",
       "      <td>Sunflower seed</td>\n",
       "      <td>5510</td>\n",
       "      <td>Production</td>\n",
       "      <td>tonnes</td>\n",
       "      <td>481400.0</td>\n",
       "      <td>449500.0</td>\n",
       "      <td>505900.0</td>\n",
       "      <td>...</td>\n",
       "      <td>1789326.0</td>\n",
       "      <td>1398203.0</td>\n",
       "      <td>2142087.0</td>\n",
       "      <td>2189309.0</td>\n",
       "      <td>1785771.0</td>\n",
       "      <td>2032340.0</td>\n",
       "      <td>2912743.0</td>\n",
       "      <td>3062690.0</td>\n",
       "      <td>3569150.0</td>\n",
       "      <td>EU</td>\n",
       "    </tr>\n",
       "    <tr>\n",
       "      <th>6649</th>\n",
       "      <td>173</td>\n",
       "      <td>Poland</td>\n",
       "      <td>187</td>\n",
       "      <td>Peas, dry</td>\n",
       "      <td>5510</td>\n",
       "      <td>Production</td>\n",
       "      <td>tonnes</td>\n",
       "      <td>54000.0</td>\n",
       "      <td>63000.0</td>\n",
       "      <td>64000.0</td>\n",
       "      <td>...</td>\n",
       "      <td>36893.0</td>\n",
       "      <td>44978.0</td>\n",
       "      <td>33232.0</td>\n",
       "      <td>44421.0</td>\n",
       "      <td>91254.0</td>\n",
       "      <td>95161.0</td>\n",
       "      <td>82768.0</td>\n",
       "      <td>25740.0</td>\n",
       "      <td>30880.0</td>\n",
       "      <td>EU</td>\n",
       "    </tr>\n",
       "    <tr>\n",
       "      <th>156</th>\n",
       "      <td>3</td>\n",
       "      <td>Albania</td>\n",
       "      <td>157</td>\n",
       "      <td>Sugar beet</td>\n",
       "      <td>5419</td>\n",
       "      <td>Yield</td>\n",
       "      <td>hg/ha</td>\n",
       "      <td>146531.0</td>\n",
       "      <td>146489.0</td>\n",
       "      <td>156977.0</td>\n",
       "      <td>...</td>\n",
       "      <td>200000.0</td>\n",
       "      <td>200000.0</td>\n",
       "      <td>200000.0</td>\n",
       "      <td>226775.0</td>\n",
       "      <td>270578.0</td>\n",
       "      <td>305264.0</td>\n",
       "      <td>341721.0</td>\n",
       "      <td>391524.0</td>\n",
       "      <td>381429.0</td>\n",
       "      <td>EU</td>\n",
       "    </tr>\n",
       "  </tbody>\n",
       "</table>\n",
       "<p>3 rows × 67 columns</p>\n",
       "</div>"
      ],
      "text/plain": [
       "      Area Code     Area  Item Code            Item  Element Code     Element  \\\n",
       "7520        183  Romania        267  Sunflower seed          5510  Production   \n",
       "6649        173   Poland        187       Peas, dry          5510  Production   \n",
       "156           3  Albania        157      Sugar beet          5419       Yield   \n",
       "\n",
       "        Unit      1961      1962      1963  ...       2011       2012  \\\n",
       "7520  tonnes  481400.0  449500.0  505900.0  ...  1789326.0  1398203.0   \n",
       "6649  tonnes   54000.0   63000.0   64000.0  ...    36893.0    44978.0   \n",
       "156    hg/ha  146531.0  146489.0  156977.0  ...   200000.0   200000.0   \n",
       "\n",
       "           2013       2014       2015       2016       2017       2018  \\\n",
       "7520  2142087.0  2189309.0  1785771.0  2032340.0  2912743.0  3062690.0   \n",
       "6649    33232.0    44421.0    91254.0    95161.0    82768.0    25740.0   \n",
       "156    200000.0   226775.0   270578.0   305264.0   341721.0   391524.0   \n",
       "\n",
       "           2019  Continent  \n",
       "7520  3569150.0         EU  \n",
       "6649    30880.0         EU  \n",
       "156    381429.0         EU  \n",
       "\n",
       "[3 rows x 67 columns]"
      ]
     },
     "execution_count": 33,
     "metadata": {},
     "output_type": "execute_result"
    }
   ],
   "source": [
    "# Creating nem column 'Continent'\n",
    "\n",
    "df['Continent'] = df.apply(convert, axis = 1)\n",
    "df.sample(3)"
   ]
  },
  {
   "cell_type": "code",
   "execution_count": 34,
   "metadata": {},
   "outputs": [
    {
     "data": {
      "text/html": [
       "<div>\n",
       "<style scoped>\n",
       "    .dataframe tbody tr th:only-of-type {\n",
       "        vertical-align: middle;\n",
       "    }\n",
       "\n",
       "    .dataframe tbody tr th {\n",
       "        vertical-align: top;\n",
       "    }\n",
       "\n",
       "    .dataframe thead th {\n",
       "        text-align: right;\n",
       "    }\n",
       "</style>\n",
       "<table border=\"1\" class=\"dataframe\">\n",
       "  <thead>\n",
       "    <tr style=\"text-align: right;\">\n",
       "      <th></th>\n",
       "      <th>Area Code</th>\n",
       "      <th>Area</th>\n",
       "      <th>Item Code</th>\n",
       "      <th>Item</th>\n",
       "      <th>Element Code</th>\n",
       "      <th>Element</th>\n",
       "      <th>Unit</th>\n",
       "      <th>1961</th>\n",
       "      <th>1962</th>\n",
       "      <th>1963</th>\n",
       "      <th>...</th>\n",
       "      <th>2011</th>\n",
       "      <th>2012</th>\n",
       "      <th>2013</th>\n",
       "      <th>2014</th>\n",
       "      <th>2015</th>\n",
       "      <th>2016</th>\n",
       "      <th>2017</th>\n",
       "      <th>2018</th>\n",
       "      <th>2019</th>\n",
       "      <th>Continent</th>\n",
       "    </tr>\n",
       "  </thead>\n",
       "  <tbody>\n",
       "  </tbody>\n",
       "</table>\n",
       "<p>0 rows × 67 columns</p>\n",
       "</div>"
      ],
      "text/plain": [
       "Empty DataFrame\n",
       "Columns: [Area Code, Area, Item Code, Item, Element Code, Element, Unit, 1961, 1962, 1963, 1964, 1965, 1966, 1967, 1968, 1969, 1970, 1971, 1972, 1973, 1974, 1975, 1976, 1977, 1978, 1979, 1980, 1981, 1982, 1983, 1984, 1985, 1986, 1987, 1988, 1989, 1990, 1991, 1992, 1993, 1994, 1995, 1996, 1997, 1998, 1999, 2000, 2001, 2002, 2003, 2004, 2005, 2006, 2007, 2008, 2009, 2010, 2011, 2012, 2013, 2014, 2015, 2016, 2017, 2018, 2019, Continent]\n",
       "Index: []\n",
       "\n",
       "[0 rows x 67 columns]"
      ]
     },
     "execution_count": 34,
     "metadata": {},
     "output_type": "execute_result"
    }
   ],
   "source": [
    "df[df['Continent']==None] ## should be None values???!!!\n"
   ]
  },
  {
   "cell_type": "code",
   "execution_count": 35,
   "metadata": {},
   "outputs": [],
   "source": [
    "# Converting conutry name into short name\n",
    "\n",
    "def country(row):\n",
    "    try:\n",
    "        countr_code =  pc.country_name_to_country_alpha2(row.Area, cn_name_format='default')\n",
    "        return countr_code\n",
    "    except:\n",
    "        return None"
   ]
  },
  {
   "cell_type": "code",
   "execution_count": 36,
   "metadata": {},
   "outputs": [
    {
     "data": {
      "text/html": [
       "<div>\n",
       "<style scoped>\n",
       "    .dataframe tbody tr th:only-of-type {\n",
       "        vertical-align: middle;\n",
       "    }\n",
       "\n",
       "    .dataframe tbody tr th {\n",
       "        vertical-align: top;\n",
       "    }\n",
       "\n",
       "    .dataframe thead th {\n",
       "        text-align: right;\n",
       "    }\n",
       "</style>\n",
       "<table border=\"1\" class=\"dataframe\">\n",
       "  <thead>\n",
       "    <tr style=\"text-align: right;\">\n",
       "      <th></th>\n",
       "      <th>Area Code</th>\n",
       "      <th>Area</th>\n",
       "      <th>Item Code</th>\n",
       "      <th>Item</th>\n",
       "      <th>Element Code</th>\n",
       "      <th>Element</th>\n",
       "      <th>Unit</th>\n",
       "      <th>1961</th>\n",
       "      <th>1962</th>\n",
       "      <th>1963</th>\n",
       "      <th>...</th>\n",
       "      <th>2012</th>\n",
       "      <th>2013</th>\n",
       "      <th>2014</th>\n",
       "      <th>2015</th>\n",
       "      <th>2016</th>\n",
       "      <th>2017</th>\n",
       "      <th>2018</th>\n",
       "      <th>2019</th>\n",
       "      <th>Continent</th>\n",
       "      <th>Country</th>\n",
       "    </tr>\n",
       "  </thead>\n",
       "  <tbody>\n",
       "    <tr>\n",
       "      <th>2407</th>\n",
       "      <td>54</td>\n",
       "      <td>Denmark</td>\n",
       "      <td>397</td>\n",
       "      <td>Cucumbers and gherkins</td>\n",
       "      <td>5419</td>\n",
       "      <td>Yield</td>\n",
       "      <td>hg/ha</td>\n",
       "      <td>211826.0</td>\n",
       "      <td>169444.0</td>\n",
       "      <td>232135.0</td>\n",
       "      <td>...</td>\n",
       "      <td>1739727.0</td>\n",
       "      <td>2362651.0</td>\n",
       "      <td>2840000.0</td>\n",
       "      <td>2501250.0</td>\n",
       "      <td>2474000.0</td>\n",
       "      <td>2215479.0</td>\n",
       "      <td>2362857.0</td>\n",
       "      <td>2753333.0</td>\n",
       "      <td>EU</td>\n",
       "      <td>DK</td>\n",
       "    </tr>\n",
       "    <tr>\n",
       "      <th>9933</th>\n",
       "      <td>229</td>\n",
       "      <td>United Kingdom of Great Britain and Northern I...</td>\n",
       "      <td>550</td>\n",
       "      <td>Currants</td>\n",
       "      <td>5510</td>\n",
       "      <td>Production</td>\n",
       "      <td>tonnes</td>\n",
       "      <td>21438.0</td>\n",
       "      <td>23674.0</td>\n",
       "      <td>32006.0</td>\n",
       "      <td>...</td>\n",
       "      <td>11910.0</td>\n",
       "      <td>16986.0</td>\n",
       "      <td>12698.0</td>\n",
       "      <td>15224.0</td>\n",
       "      <td>12238.0</td>\n",
       "      <td>13899.0</td>\n",
       "      <td>15141.0</td>\n",
       "      <td>13448.0</td>\n",
       "      <td>EU</td>\n",
       "      <td>GB</td>\n",
       "    </tr>\n",
       "    <tr>\n",
       "      <th>3713</th>\n",
       "      <td>84</td>\n",
       "      <td>Greece</td>\n",
       "      <td>406</td>\n",
       "      <td>Garlic</td>\n",
       "      <td>5419</td>\n",
       "      <td>Yield</td>\n",
       "      <td>hg/ha</td>\n",
       "      <td>28458.0</td>\n",
       "      <td>33298.0</td>\n",
       "      <td>35887.0</td>\n",
       "      <td>...</td>\n",
       "      <td>64312.0</td>\n",
       "      <td>69495.0</td>\n",
       "      <td>81700.0</td>\n",
       "      <td>82729.0</td>\n",
       "      <td>78579.0</td>\n",
       "      <td>81848.0</td>\n",
       "      <td>78590.0</td>\n",
       "      <td>75690.0</td>\n",
       "      <td>EU</td>\n",
       "      <td>GR</td>\n",
       "    </tr>\n",
       "  </tbody>\n",
       "</table>\n",
       "<p>3 rows × 68 columns</p>\n",
       "</div>"
      ],
      "text/plain": [
       "      Area Code                                               Area  Item Code  \\\n",
       "2407         54                                            Denmark        397   \n",
       "9933        229  United Kingdom of Great Britain and Northern I...        550   \n",
       "3713         84                                             Greece        406   \n",
       "\n",
       "                        Item  Element Code     Element    Unit      1961  \\\n",
       "2407  Cucumbers and gherkins          5419       Yield   hg/ha  211826.0   \n",
       "9933                Currants          5510  Production  tonnes   21438.0   \n",
       "3713                  Garlic          5419       Yield   hg/ha   28458.0   \n",
       "\n",
       "          1962      1963  ...       2012       2013       2014       2015  \\\n",
       "2407  169444.0  232135.0  ...  1739727.0  2362651.0  2840000.0  2501250.0   \n",
       "9933   23674.0   32006.0  ...    11910.0    16986.0    12698.0    15224.0   \n",
       "3713   33298.0   35887.0  ...    64312.0    69495.0    81700.0    82729.0   \n",
       "\n",
       "           2016       2017       2018       2019  Continent  Country  \n",
       "2407  2474000.0  2215479.0  2362857.0  2753333.0         EU       DK  \n",
       "9933    12238.0    13899.0    15141.0    13448.0         EU       GB  \n",
       "3713    78579.0    81848.0    78590.0    75690.0         EU       GR  \n",
       "\n",
       "[3 rows x 68 columns]"
      ]
     },
     "execution_count": 36,
     "metadata": {},
     "output_type": "execute_result"
    }
   ],
   "source": [
    "#Creating new column with country short name\n",
    "\n",
    "df['Country'] = df.apply(country, axis = 1)\n",
    "df.sample(3)"
   ]
  },
  {
   "cell_type": "code",
   "execution_count": 37,
   "metadata": {},
   "outputs": [],
   "source": [
    "#Creating latitude and logitude values\n",
    "\n",
    "geolocator = Nominatim(user_agent='berzina_e@yahoo.com')\n",
    "def geolocate(country):\n",
    "    try:\n",
    "        # Geolocate the center of the country\n",
    "        loc = geolocator.geocode(country.Country)\n",
    "        # And return latitude and longitude\n",
    "        return loc.latitude, loc.longitude\n",
    "    except:\n",
    "        # Return missing value as some countries as USSR do not exist any more\n",
    "        return None"
   ]
  },
  {
   "cell_type": "code",
   "execution_count": 38,
   "metadata": {},
   "outputs": [],
   "source": [
    "#Creating new column Geolocatin with latitude and longitude values\n",
    "\n",
    "df['GeoLocation'] = df.apply(geolocate, axis = 1)\n",
    "df.sample(3)"
   ]
  },
  {
   "cell_type": "code",
   "execution_count": 17,
   "metadata": {},
   "outputs": [],
   "source": [
    "#Creating two new columns\n",
    "\n",
    "df[['Latitude', 'Longitude']] = df['GeoLocation'].astype(str).str.strip('()').str.split(', ', expand=True).rename(columns={0:'Latitude', 1:'Longitude'}) "
   ]
  },
  {
   "cell_type": "code",
   "execution_count": 18,
   "metadata": {},
   "outputs": [
    {
     "data": {
      "text/html": [
       "<div>\n",
       "<style scoped>\n",
       "    .dataframe tbody tr th:only-of-type {\n",
       "        vertical-align: middle;\n",
       "    }\n",
       "\n",
       "    .dataframe tbody tr th {\n",
       "        vertical-align: top;\n",
       "    }\n",
       "\n",
       "    .dataframe thead th {\n",
       "        text-align: right;\n",
       "    }\n",
       "</style>\n",
       "<table border=\"1\" class=\"dataframe\">\n",
       "  <thead>\n",
       "    <tr style=\"text-align: right;\">\n",
       "      <th></th>\n",
       "      <th>Area Code</th>\n",
       "      <th>Area</th>\n",
       "      <th>Item Code</th>\n",
       "      <th>Item</th>\n",
       "      <th>Element Code</th>\n",
       "      <th>Element</th>\n",
       "      <th>Unit</th>\n",
       "      <th>1961</th>\n",
       "      <th>1962</th>\n",
       "      <th>1963</th>\n",
       "      <th>...</th>\n",
       "      <th>2015</th>\n",
       "      <th>2016</th>\n",
       "      <th>2017</th>\n",
       "      <th>2018</th>\n",
       "      <th>2019</th>\n",
       "      <th>Continent</th>\n",
       "      <th>Country</th>\n",
       "      <th>GeoLocation</th>\n",
       "      <th>Latitude</th>\n",
       "      <th>Longitude</th>\n",
       "    </tr>\n",
       "  </thead>\n",
       "  <tbody>\n",
       "    <tr>\n",
       "      <th>0</th>\n",
       "      <td>3</td>\n",
       "      <td>Albania</td>\n",
       "      <td>515</td>\n",
       "      <td>Apples</td>\n",
       "      <td>5312</td>\n",
       "      <td>Area harvested</td>\n",
       "      <td>ha</td>\n",
       "      <td>NaN</td>\n",
       "      <td>NaN</td>\n",
       "      <td>NaN</td>\n",
       "      <td>...</td>\n",
       "      <td>4008.0</td>\n",
       "      <td>4230.0</td>\n",
       "      <td>4346.0</td>\n",
       "      <td>4294.0</td>\n",
       "      <td>4407.0</td>\n",
       "      <td>EU</td>\n",
       "      <td>AL</td>\n",
       "      <td>(33.2588817, -86.8295337)</td>\n",
       "      <td>33.2588817</td>\n",
       "      <td>-86.8295337</td>\n",
       "    </tr>\n",
       "    <tr>\n",
       "      <th>1</th>\n",
       "      <td>3</td>\n",
       "      <td>Albania</td>\n",
       "      <td>515</td>\n",
       "      <td>Apples</td>\n",
       "      <td>5419</td>\n",
       "      <td>Yield</td>\n",
       "      <td>hg/ha</td>\n",
       "      <td>NaN</td>\n",
       "      <td>NaN</td>\n",
       "      <td>NaN</td>\n",
       "      <td>...</td>\n",
       "      <td>228882.0</td>\n",
       "      <td>240028.0</td>\n",
       "      <td>221671.0</td>\n",
       "      <td>252387.0</td>\n",
       "      <td>240374.0</td>\n",
       "      <td>EU</td>\n",
       "      <td>AL</td>\n",
       "      <td>(33.2588817, -86.8295337)</td>\n",
       "      <td>33.2588817</td>\n",
       "      <td>-86.8295337</td>\n",
       "    </tr>\n",
       "    <tr>\n",
       "      <th>2</th>\n",
       "      <td>3</td>\n",
       "      <td>Albania</td>\n",
       "      <td>515</td>\n",
       "      <td>Apples</td>\n",
       "      <td>5510</td>\n",
       "      <td>Production</td>\n",
       "      <td>tonnes</td>\n",
       "      <td>10004.0</td>\n",
       "      <td>8039.0</td>\n",
       "      <td>7931.0</td>\n",
       "      <td>...</td>\n",
       "      <td>91736.0</td>\n",
       "      <td>101532.0</td>\n",
       "      <td>96338.0</td>\n",
       "      <td>108375.0</td>\n",
       "      <td>105933.0</td>\n",
       "      <td>EU</td>\n",
       "      <td>AL</td>\n",
       "      <td>(33.2588817, -86.8295337)</td>\n",
       "      <td>33.2588817</td>\n",
       "      <td>-86.8295337</td>\n",
       "    </tr>\n",
       "  </tbody>\n",
       "</table>\n",
       "<p>3 rows × 71 columns</p>\n",
       "</div>"
      ],
      "text/plain": [
       "   Area Code     Area  Item Code    Item  Element Code         Element  \\\n",
       "0          3  Albania        515  Apples          5312  Area harvested   \n",
       "1          3  Albania        515  Apples          5419           Yield   \n",
       "2          3  Albania        515  Apples          5510      Production   \n",
       "\n",
       "     Unit     1961    1962    1963  ...      2015      2016      2017  \\\n",
       "0      ha      NaN     NaN     NaN  ...    4008.0    4230.0    4346.0   \n",
       "1   hg/ha      NaN     NaN     NaN  ...  228882.0  240028.0  221671.0   \n",
       "2  tonnes  10004.0  8039.0  7931.0  ...   91736.0  101532.0   96338.0   \n",
       "\n",
       "       2018      2019  Continent  Country                GeoLocation  \\\n",
       "0    4294.0    4407.0         EU       AL  (33.2588817, -86.8295337)   \n",
       "1  252387.0  240374.0         EU       AL  (33.2588817, -86.8295337)   \n",
       "2  108375.0  105933.0         EU       AL  (33.2588817, -86.8295337)   \n",
       "\n",
       "     Latitude    Longitude  \n",
       "0  33.2588817  -86.8295337  \n",
       "1  33.2588817  -86.8295337  \n",
       "2  33.2588817  -86.8295337  \n",
       "\n",
       "[3 rows x 71 columns]"
      ]
     },
     "execution_count": 18,
     "metadata": {},
     "output_type": "execute_result"
    }
   ],
   "source": [
    "df.sample(3)"
   ]
  },
  {
   "cell_type": "code",
   "execution_count": 19,
   "metadata": {},
   "outputs": [],
   "source": [
    "import plotly.express as px"
   ]
  },
  {
   "cell_type": "code",
   "execution_count": 20,
   "metadata": {},
   "outputs": [
    {
     "data": {
      "application/vnd.plotly.v1+json": {
       "config": {
        "plotlyServerURL": "https://plot.ly"
       },
       "data": [
        {
         "geo": "geo",
         "hovertemplate": "Latitude=%{lat}<br>Longitude=%{lon}<extra></extra>",
         "lat": [
          "33.2588817",
          "33.2588817",
          "33.2588817",
          "33.2588817",
          "33.2588817",
          "33.2588817",
          "33.2588817",
          "33.2588817",
          "33.2588817",
          "33.2588817",
          "33.2588817",
          "33.2588817",
          "33.2588817",
          "33.2588817",
          "33.2588817",
          "33.2588817",
          "33.2588817",
          "33.2588817",
          "33.2588817",
          "33.2588817",
          "33.2588817",
          "33.2588817",
          "33.2588817",
          "33.2588817",
          "33.2588817",
          "33.2588817",
          "33.2588817",
          "33.2588817",
          "33.2588817",
          "33.2588817",
          "33.2588817",
          "33.2588817",
          "33.2588817",
          "33.2588817",
          "33.2588817",
          "33.2588817",
          "33.2588817",
          "33.2588817",
          "33.2588817",
          "33.2588817",
          "33.2588817",
          "33.2588817",
          "33.2588817",
          "33.2588817",
          "33.2588817",
          "33.2588817",
          "33.2588817",
          "33.2588817",
          "33.2588817",
          "33.2588817",
          "33.2588817",
          "33.2588817",
          "33.2588817",
          "33.2588817",
          "33.2588817",
          "33.2588817",
          "33.2588817",
          "33.2588817",
          "33.2588817",
          "33.2588817",
          "33.2588817",
          "33.2588817",
          "33.2588817",
          "33.2588817",
          "33.2588817",
          "33.2588817",
          "33.2588817",
          "33.2588817",
          "33.2588817",
          "33.2588817",
          "33.2588817",
          "33.2588817",
          "33.2588817",
          "33.2588817",
          "33.2588817",
          "33.2588817",
          "33.2588817",
          "33.2588817",
          "33.2588817",
          "33.2588817",
          "33.2588817",
          "33.2588817",
          "33.2588817",
          "33.2588817",
          "33.2588817",
          "33.2588817",
          "33.2588817",
          "33.2588817",
          "33.2588817",
          "33.2588817",
          "33.2588817",
          "33.2588817",
          "33.2588817",
          "33.2588817",
          "33.2588817",
          "33.2588817",
          "33.2588817",
          "33.2588817",
          "33.2588817",
          "33.2588817",
          "33.2588817"
         ],
         "legendgroup": "",
         "lon": [
          "-86.8295337",
          "-86.8295337",
          "-86.8295337",
          "-86.8295337",
          "-86.8295337",
          "-86.8295337",
          "-86.8295337",
          "-86.8295337",
          "-86.8295337",
          "-86.8295337",
          "-86.8295337",
          "-86.8295337",
          "-86.8295337",
          "-86.8295337",
          "-86.8295337",
          "-86.8295337",
          "-86.8295337",
          "-86.8295337",
          "-86.8295337",
          "-86.8295337",
          "-86.8295337",
          "-86.8295337",
          "-86.8295337",
          "-86.8295337",
          "-86.8295337",
          "-86.8295337",
          "-86.8295337",
          "-86.8295337",
          "-86.8295337",
          "-86.8295337",
          "-86.8295337",
          "-86.8295337",
          "-86.8295337",
          "-86.8295337",
          "-86.8295337",
          "-86.8295337",
          "-86.8295337",
          "-86.8295337",
          "-86.8295337",
          "-86.8295337",
          "-86.8295337",
          "-86.8295337",
          "-86.8295337",
          "-86.8295337",
          "-86.8295337",
          "-86.8295337",
          "-86.8295337",
          "-86.8295337",
          "-86.8295337",
          "-86.8295337",
          "-86.8295337",
          "-86.8295337",
          "-86.8295337",
          "-86.8295337",
          "-86.8295337",
          "-86.8295337",
          "-86.8295337",
          "-86.8295337",
          "-86.8295337",
          "-86.8295337",
          "-86.8295337",
          "-86.8295337",
          "-86.8295337",
          "-86.8295337",
          "-86.8295337",
          "-86.8295337",
          "-86.8295337",
          "-86.8295337",
          "-86.8295337",
          "-86.8295337",
          "-86.8295337",
          "-86.8295337",
          "-86.8295337",
          "-86.8295337",
          "-86.8295337",
          "-86.8295337",
          "-86.8295337",
          "-86.8295337",
          "-86.8295337",
          "-86.8295337",
          "-86.8295337",
          "-86.8295337",
          "-86.8295337",
          "-86.8295337",
          "-86.8295337",
          "-86.8295337",
          "-86.8295337",
          "-86.8295337",
          "-86.8295337",
          "-86.8295337",
          "-86.8295337",
          "-86.8295337",
          "-86.8295337",
          "-86.8295337",
          "-86.8295337",
          "-86.8295337",
          "-86.8295337",
          "-86.8295337",
          "-86.8295337",
          "-86.8295337",
          "-86.8295337"
         ],
         "marker": {
          "color": "#636efa",
          "symbol": "circle"
         },
         "mode": "markers",
         "name": "",
         "showlegend": false,
         "type": "scattergeo"
        }
       ],
       "layout": {
        "geo": {
         "center": {},
         "domain": {
          "x": [
           0,
           1
          ],
          "y": [
           0,
           1
          ]
         }
        },
        "legend": {
         "tracegroupgap": 0
        },
        "margin": {
         "t": 60
        },
        "template": {
         "data": {
          "bar": [
           {
            "error_x": {
             "color": "#2a3f5f"
            },
            "error_y": {
             "color": "#2a3f5f"
            },
            "marker": {
             "line": {
              "color": "#E5ECF6",
              "width": 0.5
             },
             "pattern": {
              "fillmode": "overlay",
              "size": 10,
              "solidity": 0.2
             }
            },
            "type": "bar"
           }
          ],
          "barpolar": [
           {
            "marker": {
             "line": {
              "color": "#E5ECF6",
              "width": 0.5
             },
             "pattern": {
              "fillmode": "overlay",
              "size": 10,
              "solidity": 0.2
             }
            },
            "type": "barpolar"
           }
          ],
          "carpet": [
           {
            "aaxis": {
             "endlinecolor": "#2a3f5f",
             "gridcolor": "white",
             "linecolor": "white",
             "minorgridcolor": "white",
             "startlinecolor": "#2a3f5f"
            },
            "baxis": {
             "endlinecolor": "#2a3f5f",
             "gridcolor": "white",
             "linecolor": "white",
             "minorgridcolor": "white",
             "startlinecolor": "#2a3f5f"
            },
            "type": "carpet"
           }
          ],
          "choropleth": [
           {
            "colorbar": {
             "outlinewidth": 0,
             "ticks": ""
            },
            "type": "choropleth"
           }
          ],
          "contour": [
           {
            "colorbar": {
             "outlinewidth": 0,
             "ticks": ""
            },
            "colorscale": [
             [
              0,
              "#0d0887"
             ],
             [
              0.1111111111111111,
              "#46039f"
             ],
             [
              0.2222222222222222,
              "#7201a8"
             ],
             [
              0.3333333333333333,
              "#9c179e"
             ],
             [
              0.4444444444444444,
              "#bd3786"
             ],
             [
              0.5555555555555556,
              "#d8576b"
             ],
             [
              0.6666666666666666,
              "#ed7953"
             ],
             [
              0.7777777777777778,
              "#fb9f3a"
             ],
             [
              0.8888888888888888,
              "#fdca26"
             ],
             [
              1,
              "#f0f921"
             ]
            ],
            "type": "contour"
           }
          ],
          "contourcarpet": [
           {
            "colorbar": {
             "outlinewidth": 0,
             "ticks": ""
            },
            "type": "contourcarpet"
           }
          ],
          "heatmap": [
           {
            "colorbar": {
             "outlinewidth": 0,
             "ticks": ""
            },
            "colorscale": [
             [
              0,
              "#0d0887"
             ],
             [
              0.1111111111111111,
              "#46039f"
             ],
             [
              0.2222222222222222,
              "#7201a8"
             ],
             [
              0.3333333333333333,
              "#9c179e"
             ],
             [
              0.4444444444444444,
              "#bd3786"
             ],
             [
              0.5555555555555556,
              "#d8576b"
             ],
             [
              0.6666666666666666,
              "#ed7953"
             ],
             [
              0.7777777777777778,
              "#fb9f3a"
             ],
             [
              0.8888888888888888,
              "#fdca26"
             ],
             [
              1,
              "#f0f921"
             ]
            ],
            "type": "heatmap"
           }
          ],
          "heatmapgl": [
           {
            "colorbar": {
             "outlinewidth": 0,
             "ticks": ""
            },
            "colorscale": [
             [
              0,
              "#0d0887"
             ],
             [
              0.1111111111111111,
              "#46039f"
             ],
             [
              0.2222222222222222,
              "#7201a8"
             ],
             [
              0.3333333333333333,
              "#9c179e"
             ],
             [
              0.4444444444444444,
              "#bd3786"
             ],
             [
              0.5555555555555556,
              "#d8576b"
             ],
             [
              0.6666666666666666,
              "#ed7953"
             ],
             [
              0.7777777777777778,
              "#fb9f3a"
             ],
             [
              0.8888888888888888,
              "#fdca26"
             ],
             [
              1,
              "#f0f921"
             ]
            ],
            "type": "heatmapgl"
           }
          ],
          "histogram": [
           {
            "marker": {
             "pattern": {
              "fillmode": "overlay",
              "size": 10,
              "solidity": 0.2
             }
            },
            "type": "histogram"
           }
          ],
          "histogram2d": [
           {
            "colorbar": {
             "outlinewidth": 0,
             "ticks": ""
            },
            "colorscale": [
             [
              0,
              "#0d0887"
             ],
             [
              0.1111111111111111,
              "#46039f"
             ],
             [
              0.2222222222222222,
              "#7201a8"
             ],
             [
              0.3333333333333333,
              "#9c179e"
             ],
             [
              0.4444444444444444,
              "#bd3786"
             ],
             [
              0.5555555555555556,
              "#d8576b"
             ],
             [
              0.6666666666666666,
              "#ed7953"
             ],
             [
              0.7777777777777778,
              "#fb9f3a"
             ],
             [
              0.8888888888888888,
              "#fdca26"
             ],
             [
              1,
              "#f0f921"
             ]
            ],
            "type": "histogram2d"
           }
          ],
          "histogram2dcontour": [
           {
            "colorbar": {
             "outlinewidth": 0,
             "ticks": ""
            },
            "colorscale": [
             [
              0,
              "#0d0887"
             ],
             [
              0.1111111111111111,
              "#46039f"
             ],
             [
              0.2222222222222222,
              "#7201a8"
             ],
             [
              0.3333333333333333,
              "#9c179e"
             ],
             [
              0.4444444444444444,
              "#bd3786"
             ],
             [
              0.5555555555555556,
              "#d8576b"
             ],
             [
              0.6666666666666666,
              "#ed7953"
             ],
             [
              0.7777777777777778,
              "#fb9f3a"
             ],
             [
              0.8888888888888888,
              "#fdca26"
             ],
             [
              1,
              "#f0f921"
             ]
            ],
            "type": "histogram2dcontour"
           }
          ],
          "mesh3d": [
           {
            "colorbar": {
             "outlinewidth": 0,
             "ticks": ""
            },
            "type": "mesh3d"
           }
          ],
          "parcoords": [
           {
            "line": {
             "colorbar": {
              "outlinewidth": 0,
              "ticks": ""
             }
            },
            "type": "parcoords"
           }
          ],
          "pie": [
           {
            "automargin": true,
            "type": "pie"
           }
          ],
          "scatter": [
           {
            "fillpattern": {
             "fillmode": "overlay",
             "size": 10,
             "solidity": 0.2
            },
            "type": "scatter"
           }
          ],
          "scatter3d": [
           {
            "line": {
             "colorbar": {
              "outlinewidth": 0,
              "ticks": ""
             }
            },
            "marker": {
             "colorbar": {
              "outlinewidth": 0,
              "ticks": ""
             }
            },
            "type": "scatter3d"
           }
          ],
          "scattercarpet": [
           {
            "marker": {
             "colorbar": {
              "outlinewidth": 0,
              "ticks": ""
             }
            },
            "type": "scattercarpet"
           }
          ],
          "scattergeo": [
           {
            "marker": {
             "colorbar": {
              "outlinewidth": 0,
              "ticks": ""
             }
            },
            "type": "scattergeo"
           }
          ],
          "scattergl": [
           {
            "marker": {
             "colorbar": {
              "outlinewidth": 0,
              "ticks": ""
             }
            },
            "type": "scattergl"
           }
          ],
          "scattermapbox": [
           {
            "marker": {
             "colorbar": {
              "outlinewidth": 0,
              "ticks": ""
             }
            },
            "type": "scattermapbox"
           }
          ],
          "scatterpolar": [
           {
            "marker": {
             "colorbar": {
              "outlinewidth": 0,
              "ticks": ""
             }
            },
            "type": "scatterpolar"
           }
          ],
          "scatterpolargl": [
           {
            "marker": {
             "colorbar": {
              "outlinewidth": 0,
              "ticks": ""
             }
            },
            "type": "scatterpolargl"
           }
          ],
          "scatterternary": [
           {
            "marker": {
             "colorbar": {
              "outlinewidth": 0,
              "ticks": ""
             }
            },
            "type": "scatterternary"
           }
          ],
          "surface": [
           {
            "colorbar": {
             "outlinewidth": 0,
             "ticks": ""
            },
            "colorscale": [
             [
              0,
              "#0d0887"
             ],
             [
              0.1111111111111111,
              "#46039f"
             ],
             [
              0.2222222222222222,
              "#7201a8"
             ],
             [
              0.3333333333333333,
              "#9c179e"
             ],
             [
              0.4444444444444444,
              "#bd3786"
             ],
             [
              0.5555555555555556,
              "#d8576b"
             ],
             [
              0.6666666666666666,
              "#ed7953"
             ],
             [
              0.7777777777777778,
              "#fb9f3a"
             ],
             [
              0.8888888888888888,
              "#fdca26"
             ],
             [
              1,
              "#f0f921"
             ]
            ],
            "type": "surface"
           }
          ],
          "table": [
           {
            "cells": {
             "fill": {
              "color": "#EBF0F8"
             },
             "line": {
              "color": "white"
             }
            },
            "header": {
             "fill": {
              "color": "#C8D4E3"
             },
             "line": {
              "color": "white"
             }
            },
            "type": "table"
           }
          ]
         },
         "layout": {
          "annotationdefaults": {
           "arrowcolor": "#2a3f5f",
           "arrowhead": 0,
           "arrowwidth": 1
          },
          "autotypenumbers": "strict",
          "coloraxis": {
           "colorbar": {
            "outlinewidth": 0,
            "ticks": ""
           }
          },
          "colorscale": {
           "diverging": [
            [
             0,
             "#8e0152"
            ],
            [
             0.1,
             "#c51b7d"
            ],
            [
             0.2,
             "#de77ae"
            ],
            [
             0.3,
             "#f1b6da"
            ],
            [
             0.4,
             "#fde0ef"
            ],
            [
             0.5,
             "#f7f7f7"
            ],
            [
             0.6,
             "#e6f5d0"
            ],
            [
             0.7,
             "#b8e186"
            ],
            [
             0.8,
             "#7fbc41"
            ],
            [
             0.9,
             "#4d9221"
            ],
            [
             1,
             "#276419"
            ]
           ],
           "sequential": [
            [
             0,
             "#0d0887"
            ],
            [
             0.1111111111111111,
             "#46039f"
            ],
            [
             0.2222222222222222,
             "#7201a8"
            ],
            [
             0.3333333333333333,
             "#9c179e"
            ],
            [
             0.4444444444444444,
             "#bd3786"
            ],
            [
             0.5555555555555556,
             "#d8576b"
            ],
            [
             0.6666666666666666,
             "#ed7953"
            ],
            [
             0.7777777777777778,
             "#fb9f3a"
            ],
            [
             0.8888888888888888,
             "#fdca26"
            ],
            [
             1,
             "#f0f921"
            ]
           ],
           "sequentialminus": [
            [
             0,
             "#0d0887"
            ],
            [
             0.1111111111111111,
             "#46039f"
            ],
            [
             0.2222222222222222,
             "#7201a8"
            ],
            [
             0.3333333333333333,
             "#9c179e"
            ],
            [
             0.4444444444444444,
             "#bd3786"
            ],
            [
             0.5555555555555556,
             "#d8576b"
            ],
            [
             0.6666666666666666,
             "#ed7953"
            ],
            [
             0.7777777777777778,
             "#fb9f3a"
            ],
            [
             0.8888888888888888,
             "#fdca26"
            ],
            [
             1,
             "#f0f921"
            ]
           ]
          },
          "colorway": [
           "#636efa",
           "#EF553B",
           "#00cc96",
           "#ab63fa",
           "#FFA15A",
           "#19d3f3",
           "#FF6692",
           "#B6E880",
           "#FF97FF",
           "#FECB52"
          ],
          "font": {
           "color": "#2a3f5f"
          },
          "geo": {
           "bgcolor": "white",
           "lakecolor": "white",
           "landcolor": "#E5ECF6",
           "showlakes": true,
           "showland": true,
           "subunitcolor": "white"
          },
          "hoverlabel": {
           "align": "left"
          },
          "hovermode": "closest",
          "mapbox": {
           "style": "light"
          },
          "paper_bgcolor": "white",
          "plot_bgcolor": "#E5ECF6",
          "polar": {
           "angularaxis": {
            "gridcolor": "white",
            "linecolor": "white",
            "ticks": ""
           },
           "bgcolor": "#E5ECF6",
           "radialaxis": {
            "gridcolor": "white",
            "linecolor": "white",
            "ticks": ""
           }
          },
          "scene": {
           "xaxis": {
            "backgroundcolor": "#E5ECF6",
            "gridcolor": "white",
            "gridwidth": 2,
            "linecolor": "white",
            "showbackground": true,
            "ticks": "",
            "zerolinecolor": "white"
           },
           "yaxis": {
            "backgroundcolor": "#E5ECF6",
            "gridcolor": "white",
            "gridwidth": 2,
            "linecolor": "white",
            "showbackground": true,
            "ticks": "",
            "zerolinecolor": "white"
           },
           "zaxis": {
            "backgroundcolor": "#E5ECF6",
            "gridcolor": "white",
            "gridwidth": 2,
            "linecolor": "white",
            "showbackground": true,
            "ticks": "",
            "zerolinecolor": "white"
           }
          },
          "shapedefaults": {
           "line": {
            "color": "#2a3f5f"
           }
          },
          "ternary": {
           "aaxis": {
            "gridcolor": "white",
            "linecolor": "white",
            "ticks": ""
           },
           "baxis": {
            "gridcolor": "white",
            "linecolor": "white",
            "ticks": ""
           },
           "bgcolor": "#E5ECF6",
           "caxis": {
            "gridcolor": "white",
            "linecolor": "white",
            "ticks": ""
           }
          },
          "title": {
           "x": 0.05
          },
          "xaxis": {
           "automargin": true,
           "gridcolor": "white",
           "linecolor": "white",
           "ticks": "",
           "title": {
            "standoff": 15
           },
           "zerolinecolor": "white",
           "zerolinewidth": 2
          },
          "yaxis": {
           "automargin": true,
           "gridcolor": "white",
           "linecolor": "white",
           "ticks": "",
           "title": {
            "standoff": 15
           },
           "zerolinecolor": "white",
           "zerolinewidth": 2
          }
         }
        },
        "title": {
         "text": "Agricultural production Areas in Europe",
         "x": 0.5
        }
       }
      }
     },
     "metadata": {},
     "output_type": "display_data"
    }
   ],
   "source": [
    "fig = px.scatter_geo(data, lat='Latitude', lon='Longitude')\n",
    "fig.update_layout(title = 'Agricultural production Areas in Europe', title_x=0.5)\n",
    "fig.show()"
   ]
  },
  {
   "cell_type": "code",
   "execution_count": null,
   "metadata": {},
   "outputs": [],
   "source": [
    "n = 10\n",
    "df.nlargest(n, \"Col_Name\", keep = \"all\")"
   ]
  },
  {
   "cell_type": "code",
   "execution_count": null,
   "metadata": {},
   "outputs": [],
   "source": [
    "n=10\n",
    "df.sort_values(\"Col_Name\", ascending=False).head(n)"
   ]
  },
  {
   "cell_type": "code",
   "execution_count": null,
   "metadata": {},
   "outputs": [],
   "source": []
  },
  {
   "cell_type": "code",
   "execution_count": null,
   "metadata": {},
   "outputs": [],
   "source": []
  },
  {
   "cell_type": "code",
   "execution_count": null,
   "metadata": {},
   "outputs": [],
   "source": []
  },
  {
   "cell_type": "code",
   "execution_count": 130,
   "metadata": {},
   "outputs": [],
   "source": [
    "# Choosing rows with Latvian area\n",
    "\n",
    "df_lv = df.loc[df['Area'] =='Latvia'] "
   ]
  },
  {
   "cell_type": "code",
   "execution_count": 131,
   "metadata": {},
   "outputs": [
    {
     "name": "stderr",
     "output_type": "stream",
     "text": [
      "C:\\Users\\Д\\AppData\\Local\\Temp\\ipykernel_636\\317519920.py:3: SettingWithCopyWarning: \n",
      "A value is trying to be set on a copy of a slice from a DataFrame\n",
      "\n",
      "See the caveats in the documentation: https://pandas.pydata.org/pandas-docs/stable/user_guide/indexing.html#returning-a-view-versus-a-copy\n",
      "  df_lv.drop(df.iloc[:, 7:38], inplace=True, axis=1)\n"
     ]
    },
    {
     "data": {
      "text/html": [
       "<div>\n",
       "<style scoped>\n",
       "    .dataframe tbody tr th:only-of-type {\n",
       "        vertical-align: middle;\n",
       "    }\n",
       "\n",
       "    .dataframe tbody tr th {\n",
       "        vertical-align: top;\n",
       "    }\n",
       "\n",
       "    .dataframe thead th {\n",
       "        text-align: right;\n",
       "    }\n",
       "</style>\n",
       "<table border=\"1\" class=\"dataframe\">\n",
       "  <thead>\n",
       "    <tr style=\"text-align: right;\">\n",
       "      <th></th>\n",
       "      <th>Area Code</th>\n",
       "      <th>Area</th>\n",
       "      <th>Item Code</th>\n",
       "      <th>Item</th>\n",
       "      <th>Element Code</th>\n",
       "      <th>Element</th>\n",
       "      <th>Unit</th>\n",
       "      <th>1992</th>\n",
       "      <th>1993</th>\n",
       "      <th>1994</th>\n",
       "      <th>...</th>\n",
       "      <th>2010</th>\n",
       "      <th>2011</th>\n",
       "      <th>2012</th>\n",
       "      <th>2013</th>\n",
       "      <th>2014</th>\n",
       "      <th>2015</th>\n",
       "      <th>2016</th>\n",
       "      <th>2017</th>\n",
       "      <th>2018</th>\n",
       "      <th>2019</th>\n",
       "    </tr>\n",
       "  </thead>\n",
       "  <tbody>\n",
       "    <tr>\n",
       "      <th>4819</th>\n",
       "      <td>119</td>\n",
       "      <td>Latvia</td>\n",
       "      <td>221</td>\n",
       "      <td>Almonds, with shell</td>\n",
       "      <td>5312</td>\n",
       "      <td>Area harvested</td>\n",
       "      <td>ha</td>\n",
       "      <td>NaN</td>\n",
       "      <td>NaN</td>\n",
       "      <td>NaN</td>\n",
       "      <td>...</td>\n",
       "      <td>NaN</td>\n",
       "      <td>NaN</td>\n",
       "      <td>NaN</td>\n",
       "      <td>NaN</td>\n",
       "      <td>NaN</td>\n",
       "      <td>NaN</td>\n",
       "      <td>NaN</td>\n",
       "      <td>NaN</td>\n",
       "      <td>0.0</td>\n",
       "      <td>0.0</td>\n",
       "    </tr>\n",
       "    <tr>\n",
       "      <th>4820</th>\n",
       "      <td>119</td>\n",
       "      <td>Latvia</td>\n",
       "      <td>221</td>\n",
       "      <td>Almonds, with shell</td>\n",
       "      <td>5510</td>\n",
       "      <td>Production</td>\n",
       "      <td>tonnes</td>\n",
       "      <td>NaN</td>\n",
       "      <td>NaN</td>\n",
       "      <td>NaN</td>\n",
       "      <td>...</td>\n",
       "      <td>NaN</td>\n",
       "      <td>NaN</td>\n",
       "      <td>NaN</td>\n",
       "      <td>NaN</td>\n",
       "      <td>NaN</td>\n",
       "      <td>NaN</td>\n",
       "      <td>NaN</td>\n",
       "      <td>NaN</td>\n",
       "      <td>0.0</td>\n",
       "      <td>0.0</td>\n",
       "    </tr>\n",
       "    <tr>\n",
       "      <th>4821</th>\n",
       "      <td>119</td>\n",
       "      <td>Latvia</td>\n",
       "      <td>515</td>\n",
       "      <td>Apples</td>\n",
       "      <td>5312</td>\n",
       "      <td>Area harvested</td>\n",
       "      <td>ha</td>\n",
       "      <td>12000.0</td>\n",
       "      <td>12000.0</td>\n",
       "      <td>12000.0</td>\n",
       "      <td>...</td>\n",
       "      <td>3257.0</td>\n",
       "      <td>3379.0</td>\n",
       "      <td>3136.0</td>\n",
       "      <td>2762.0</td>\n",
       "      <td>2653.0</td>\n",
       "      <td>2417.0</td>\n",
       "      <td>2458.0</td>\n",
       "      <td>3331.0</td>\n",
       "      <td>3200.0</td>\n",
       "      <td>3440.0</td>\n",
       "    </tr>\n",
       "    <tr>\n",
       "      <th>4822</th>\n",
       "      <td>119</td>\n",
       "      <td>Latvia</td>\n",
       "      <td>515</td>\n",
       "      <td>Apples</td>\n",
       "      <td>5419</td>\n",
       "      <td>Yield</td>\n",
       "      <td>hg/ha</td>\n",
       "      <td>42500.0</td>\n",
       "      <td>77500.0</td>\n",
       "      <td>15833.0</td>\n",
       "      <td>...</td>\n",
       "      <td>31701.0</td>\n",
       "      <td>22199.0</td>\n",
       "      <td>30131.0</td>\n",
       "      <td>53407.0</td>\n",
       "      <td>36272.0</td>\n",
       "      <td>32333.0</td>\n",
       "      <td>40090.0</td>\n",
       "      <td>22408.0</td>\n",
       "      <td>43438.0</td>\n",
       "      <td>30203.0</td>\n",
       "    </tr>\n",
       "  </tbody>\n",
       "</table>\n",
       "<p>4 rows × 35 columns</p>\n",
       "</div>"
      ],
      "text/plain": [
       "      Area Code    Area  Item Code                 Item  Element Code  \\\n",
       "4819        119  Latvia        221  Almonds, with shell          5312   \n",
       "4820        119  Latvia        221  Almonds, with shell          5510   \n",
       "4821        119  Latvia        515               Apples          5312   \n",
       "4822        119  Latvia        515               Apples          5419   \n",
       "\n",
       "             Element    Unit     1992     1993     1994  ...     2010  \\\n",
       "4819  Area harvested      ha      NaN      NaN      NaN  ...      NaN   \n",
       "4820      Production  tonnes      NaN      NaN      NaN  ...      NaN   \n",
       "4821  Area harvested      ha  12000.0  12000.0  12000.0  ...   3257.0   \n",
       "4822           Yield   hg/ha  42500.0  77500.0  15833.0  ...  31701.0   \n",
       "\n",
       "         2011     2012     2013     2014     2015     2016     2017     2018  \\\n",
       "4819      NaN      NaN      NaN      NaN      NaN      NaN      NaN      0.0   \n",
       "4820      NaN      NaN      NaN      NaN      NaN      NaN      NaN      0.0   \n",
       "4821   3379.0   3136.0   2762.0   2653.0   2417.0   2458.0   3331.0   3200.0   \n",
       "4822  22199.0  30131.0  53407.0  36272.0  32333.0  40090.0  22408.0  43438.0   \n",
       "\n",
       "         2019  \n",
       "4819      0.0  \n",
       "4820      0.0  \n",
       "4821   3440.0  \n",
       "4822  30203.0  \n",
       "\n",
       "[4 rows x 35 columns]"
      ]
     },
     "execution_count": 131,
     "metadata": {},
     "output_type": "execute_result"
    }
   ],
   "source": [
    "#Deleting empty years (Y1961-Y1991) as Latvia was a part of USSR\n",
    "\n",
    "df_lv.drop(df.iloc[:, 7:38], inplace=True, axis=1)\n",
    "df_lv.head(4)"
   ]
  },
  {
   "cell_type": "code",
   "execution_count": 132,
   "metadata": {},
   "outputs": [
    {
     "data": {
      "text/plain": [
       "Area Code         0\n",
       "Area              0\n",
       "Item Code         0\n",
       "Item              0\n",
       "Element Code      0\n",
       "Element           0\n",
       "Unit              0\n",
       "1992            111\n",
       "1993            111\n",
       "1994            111\n",
       "1995            111\n",
       "1996            108\n",
       "1997             94\n",
       "1998             95\n",
       "1999             86\n",
       "2000             83\n",
       "2001             83\n",
       "2002             83\n",
       "2003             83\n",
       "2004             80\n",
       "2005             80\n",
       "2006             77\n",
       "2007             77\n",
       "2008             80\n",
       "2009             79\n",
       "2010             79\n",
       "2011             79\n",
       "2012             79\n",
       "2013             79\n",
       "2014             79\n",
       "2015             79\n",
       "2016             79\n",
       "2017             79\n",
       "2018             51\n",
       "2019             51\n",
       "dtype: int64"
      ]
     },
     "execution_count": 132,
     "metadata": {},
     "output_type": "execute_result"
    }
   ],
   "source": [
    "# As geografical area included in dataset is very wide, there are agricultural products that are not produced in Latvia.\n",
    "\n",
    "df_lv.isna().sum()"
   ]
  },
  {
   "cell_type": "code",
   "execution_count": null,
   "metadata": {},
   "outputs": [],
   "source": []
  },
  {
   "cell_type": "code",
   "execution_count": 138,
   "metadata": {},
   "outputs": [
    {
     "data": {
      "text/html": [
       "<div>\n",
       "<style scoped>\n",
       "    .dataframe tbody tr th:only-of-type {\n",
       "        vertical-align: middle;\n",
       "    }\n",
       "\n",
       "    .dataframe tbody tr th {\n",
       "        vertical-align: top;\n",
       "    }\n",
       "\n",
       "    .dataframe thead th {\n",
       "        text-align: right;\n",
       "    }\n",
       "</style>\n",
       "<table border=\"1\" class=\"dataframe\">\n",
       "  <thead>\n",
       "    <tr style=\"text-align: right;\">\n",
       "      <th></th>\n",
       "      <th>4821</th>\n",
       "      <th>4822</th>\n",
       "      <th>4823</th>\n",
       "      <th>4830</th>\n",
       "      <th>4831</th>\n",
       "      <th>4832</th>\n",
       "      <th>4836</th>\n",
       "      <th>4837</th>\n",
       "      <th>4838</th>\n",
       "      <th>4848</th>\n",
       "      <th>...</th>\n",
       "      <th>5043</th>\n",
       "      <th>5044</th>\n",
       "      <th>5045</th>\n",
       "      <th>5046</th>\n",
       "      <th>5047</th>\n",
       "      <th>5048</th>\n",
       "      <th>5050</th>\n",
       "      <th>5053</th>\n",
       "      <th>5054</th>\n",
       "      <th>5055</th>\n",
       "    </tr>\n",
       "  </thead>\n",
       "  <tbody>\n",
       "    <tr>\n",
       "      <th>Area Code</th>\n",
       "      <td>119</td>\n",
       "      <td>119</td>\n",
       "      <td>119</td>\n",
       "      <td>119</td>\n",
       "      <td>119</td>\n",
       "      <td>119</td>\n",
       "      <td>119</td>\n",
       "      <td>119</td>\n",
       "      <td>119</td>\n",
       "      <td>119</td>\n",
       "      <td>...</td>\n",
       "      <td>119</td>\n",
       "      <td>119</td>\n",
       "      <td>119</td>\n",
       "      <td>119</td>\n",
       "      <td>119</td>\n",
       "      <td>119</td>\n",
       "      <td>119</td>\n",
       "      <td>119</td>\n",
       "      <td>119</td>\n",
       "      <td>119</td>\n",
       "    </tr>\n",
       "    <tr>\n",
       "      <th>Area</th>\n",
       "      <td>Latvia</td>\n",
       "      <td>Latvia</td>\n",
       "      <td>Latvia</td>\n",
       "      <td>Latvia</td>\n",
       "      <td>Latvia</td>\n",
       "      <td>Latvia</td>\n",
       "      <td>Latvia</td>\n",
       "      <td>Latvia</td>\n",
       "      <td>Latvia</td>\n",
       "      <td>Latvia</td>\n",
       "      <td>...</td>\n",
       "      <td>Latvia</td>\n",
       "      <td>Latvia</td>\n",
       "      <td>Latvia</td>\n",
       "      <td>Latvia</td>\n",
       "      <td>Latvia</td>\n",
       "      <td>Latvia</td>\n",
       "      <td>Latvia</td>\n",
       "      <td>Latvia</td>\n",
       "      <td>Latvia</td>\n",
       "      <td>Latvia</td>\n",
       "    </tr>\n",
       "    <tr>\n",
       "      <th>Item Code</th>\n",
       "      <td>515</td>\n",
       "      <td>515</td>\n",
       "      <td>515</td>\n",
       "      <td>44</td>\n",
       "      <td>44</td>\n",
       "      <td>44</td>\n",
       "      <td>558</td>\n",
       "      <td>558</td>\n",
       "      <td>558</td>\n",
       "      <td>358</td>\n",
       "      <td>...</td>\n",
       "      <td>1726</td>\n",
       "      <td>1726</td>\n",
       "      <td>1720</td>\n",
       "      <td>1720</td>\n",
       "      <td>1720</td>\n",
       "      <td>1723</td>\n",
       "      <td>1723</td>\n",
       "      <td>1735</td>\n",
       "      <td>1735</td>\n",
       "      <td>1735</td>\n",
       "    </tr>\n",
       "    <tr>\n",
       "      <th>Item</th>\n",
       "      <td>Apples</td>\n",
       "      <td>Apples</td>\n",
       "      <td>Apples</td>\n",
       "      <td>Barley</td>\n",
       "      <td>Barley</td>\n",
       "      <td>Barley</td>\n",
       "      <td>Berries nes</td>\n",
       "      <td>Berries nes</td>\n",
       "      <td>Berries nes</td>\n",
       "      <td>Cabbages and other brassicas</td>\n",
       "      <td>...</td>\n",
       "      <td>Pulses, Total</td>\n",
       "      <td>Pulses, Total</td>\n",
       "      <td>Roots and Tubers, Total</td>\n",
       "      <td>Roots and Tubers, Total</td>\n",
       "      <td>Roots and Tubers, Total</td>\n",
       "      <td>Sugar Crops Primary</td>\n",
       "      <td>Sugar Crops Primary</td>\n",
       "      <td>Vegetables Primary</td>\n",
       "      <td>Vegetables Primary</td>\n",
       "      <td>Vegetables Primary</td>\n",
       "    </tr>\n",
       "    <tr>\n",
       "      <th>Element Code</th>\n",
       "      <td>5312</td>\n",
       "      <td>5419</td>\n",
       "      <td>5510</td>\n",
       "      <td>5312</td>\n",
       "      <td>5419</td>\n",
       "      <td>5510</td>\n",
       "      <td>5312</td>\n",
       "      <td>5419</td>\n",
       "      <td>5510</td>\n",
       "      <td>5312</td>\n",
       "      <td>...</td>\n",
       "      <td>5419</td>\n",
       "      <td>5510</td>\n",
       "      <td>5312</td>\n",
       "      <td>5419</td>\n",
       "      <td>5510</td>\n",
       "      <td>5312</td>\n",
       "      <td>5510</td>\n",
       "      <td>5312</td>\n",
       "      <td>5419</td>\n",
       "      <td>5510</td>\n",
       "    </tr>\n",
       "  </tbody>\n",
       "</table>\n",
       "<p>5 rows × 93 columns</p>\n",
       "</div>"
      ],
      "text/plain": [
       "                4821    4822    4823    4830    4831    4832         4836  \\\n",
       "Area Code        119     119     119     119     119     119          119   \n",
       "Area          Latvia  Latvia  Latvia  Latvia  Latvia  Latvia       Latvia   \n",
       "Item Code        515     515     515      44      44      44          558   \n",
       "Item          Apples  Apples  Apples  Barley  Barley  Barley  Berries nes   \n",
       "Element Code    5312    5419    5510    5312    5419    5510         5312   \n",
       "\n",
       "                     4837         4838                          4848  ...  \\\n",
       "Area Code             119          119                           119  ...   \n",
       "Area               Latvia       Latvia                        Latvia  ...   \n",
       "Item Code             558          558                           358  ...   \n",
       "Item          Berries nes  Berries nes  Cabbages and other brassicas  ...   \n",
       "Element Code         5419         5510                          5312  ...   \n",
       "\n",
       "                       5043           5044                     5045  \\\n",
       "Area Code               119            119                      119   \n",
       "Area                 Latvia         Latvia                   Latvia   \n",
       "Item Code              1726           1726                     1720   \n",
       "Item          Pulses, Total  Pulses, Total  Roots and Tubers, Total   \n",
       "Element Code           5419           5510                     5312   \n",
       "\n",
       "                                 5046                     5047  \\\n",
       "Area Code                         119                      119   \n",
       "Area                           Latvia                   Latvia   \n",
       "Item Code                        1720                     1720   \n",
       "Item          Roots and Tubers, Total  Roots and Tubers, Total   \n",
       "Element Code                     5419                     5510   \n",
       "\n",
       "                             5048                 5050                5053  \\\n",
       "Area Code                     119                  119                 119   \n",
       "Area                       Latvia               Latvia              Latvia   \n",
       "Item Code                    1723                 1723                1735   \n",
       "Item          Sugar Crops Primary  Sugar Crops Primary  Vegetables Primary   \n",
       "Element Code                 5312                 5510                5312   \n",
       "\n",
       "                            5054                5055  \n",
       "Area Code                    119                 119  \n",
       "Area                      Latvia              Latvia  \n",
       "Item Code                   1735                1735  \n",
       "Item          Vegetables Primary  Vegetables Primary  \n",
       "Element Code                5419                5510  \n",
       "\n",
       "[5 rows x 93 columns]"
      ]
     },
     "execution_count": 138,
     "metadata": {},
     "output_type": "execute_result"
    }
   ],
   "source": [
    "df_lv.T.head()"
   ]
  },
  {
   "cell_type": "code",
   "execution_count": 137,
   "metadata": {},
   "outputs": [
    {
     "data": {
      "text/html": [
       "<div>\n",
       "<style scoped>\n",
       "    .dataframe tbody tr th:only-of-type {\n",
       "        vertical-align: middle;\n",
       "    }\n",
       "\n",
       "    .dataframe tbody tr th {\n",
       "        vertical-align: top;\n",
       "    }\n",
       "\n",
       "    .dataframe thead th {\n",
       "        text-align: right;\n",
       "    }\n",
       "</style>\n",
       "<table border=\"1\" class=\"dataframe\">\n",
       "  <thead>\n",
       "    <tr style=\"text-align: right;\">\n",
       "      <th></th>\n",
       "      <th>Area Code</th>\n",
       "      <th>Area</th>\n",
       "      <th>Item Code</th>\n",
       "      <th>Item</th>\n",
       "      <th>Element Code</th>\n",
       "      <th>Element</th>\n",
       "      <th>Unit</th>\n",
       "      <th>1992</th>\n",
       "      <th>1993</th>\n",
       "      <th>1994</th>\n",
       "      <th>...</th>\n",
       "      <th>2010</th>\n",
       "      <th>2011</th>\n",
       "      <th>2012</th>\n",
       "      <th>2013</th>\n",
       "      <th>2014</th>\n",
       "      <th>2015</th>\n",
       "      <th>2016</th>\n",
       "      <th>2017</th>\n",
       "      <th>2018</th>\n",
       "      <th>2019</th>\n",
       "    </tr>\n",
       "  </thead>\n",
       "  <tbody>\n",
       "    <tr>\n",
       "      <th>4821</th>\n",
       "      <td>119</td>\n",
       "      <td>Latvia</td>\n",
       "      <td>515</td>\n",
       "      <td>Apples</td>\n",
       "      <td>5312</td>\n",
       "      <td>Area harvested</td>\n",
       "      <td>ha</td>\n",
       "      <td>12000.0</td>\n",
       "      <td>12000.0</td>\n",
       "      <td>12000.0</td>\n",
       "      <td>...</td>\n",
       "      <td>3257.0</td>\n",
       "      <td>3379.0</td>\n",
       "      <td>3136.0</td>\n",
       "      <td>2762.0</td>\n",
       "      <td>2653.0</td>\n",
       "      <td>2417.0</td>\n",
       "      <td>2458.0</td>\n",
       "      <td>3331.0</td>\n",
       "      <td>3200.0</td>\n",
       "      <td>3440.0</td>\n",
       "    </tr>\n",
       "    <tr>\n",
       "      <th>4822</th>\n",
       "      <td>119</td>\n",
       "      <td>Latvia</td>\n",
       "      <td>515</td>\n",
       "      <td>Apples</td>\n",
       "      <td>5419</td>\n",
       "      <td>Yield</td>\n",
       "      <td>hg/ha</td>\n",
       "      <td>42500.0</td>\n",
       "      <td>77500.0</td>\n",
       "      <td>15833.0</td>\n",
       "      <td>...</td>\n",
       "      <td>31701.0</td>\n",
       "      <td>22199.0</td>\n",
       "      <td>30131.0</td>\n",
       "      <td>53407.0</td>\n",
       "      <td>36272.0</td>\n",
       "      <td>32333.0</td>\n",
       "      <td>40090.0</td>\n",
       "      <td>22408.0</td>\n",
       "      <td>43438.0</td>\n",
       "      <td>30203.0</td>\n",
       "    </tr>\n",
       "    <tr>\n",
       "      <th>4823</th>\n",
       "      <td>119</td>\n",
       "      <td>Latvia</td>\n",
       "      <td>515</td>\n",
       "      <td>Apples</td>\n",
       "      <td>5510</td>\n",
       "      <td>Production</td>\n",
       "      <td>tonnes</td>\n",
       "      <td>51000.0</td>\n",
       "      <td>93000.0</td>\n",
       "      <td>19000.0</td>\n",
       "      <td>...</td>\n",
       "      <td>10325.0</td>\n",
       "      <td>7501.0</td>\n",
       "      <td>9449.0</td>\n",
       "      <td>14751.0</td>\n",
       "      <td>9623.0</td>\n",
       "      <td>7815.0</td>\n",
       "      <td>9854.0</td>\n",
       "      <td>7464.0</td>\n",
       "      <td>13900.0</td>\n",
       "      <td>10390.0</td>\n",
       "    </tr>\n",
       "    <tr>\n",
       "      <th>4830</th>\n",
       "      <td>119</td>\n",
       "      <td>Latvia</td>\n",
       "      <td>44</td>\n",
       "      <td>Barley</td>\n",
       "      <td>5312</td>\n",
       "      <td>Area harvested</td>\n",
       "      <td>ha</td>\n",
       "      <td>350400.0</td>\n",
       "      <td>275300.0</td>\n",
       "      <td>266500.0</td>\n",
       "      <td>...</td>\n",
       "      <td>100400.0</td>\n",
       "      <td>95900.0</td>\n",
       "      <td>86300.0</td>\n",
       "      <td>84400.0</td>\n",
       "      <td>118200.0</td>\n",
       "      <td>99300.0</td>\n",
       "      <td>94400.0</td>\n",
       "      <td>70300.0</td>\n",
       "      <td>118300.0</td>\n",
       "      <td>86800.0</td>\n",
       "    </tr>\n",
       "    <tr>\n",
       "      <th>4831</th>\n",
       "      <td>119</td>\n",
       "      <td>Latvia</td>\n",
       "      <td>44</td>\n",
       "      <td>Barley</td>\n",
       "      <td>5419</td>\n",
       "      <td>Yield</td>\n",
       "      <td>hg/ha</td>\n",
       "      <td>12372.0</td>\n",
       "      <td>16546.0</td>\n",
       "      <td>18053.0</td>\n",
       "      <td>...</td>\n",
       "      <td>22749.0</td>\n",
       "      <td>24682.0</td>\n",
       "      <td>28806.0</td>\n",
       "      <td>27559.0</td>\n",
       "      <td>35431.0</td>\n",
       "      <td>38781.0</td>\n",
       "      <td>30000.0</td>\n",
       "      <td>34267.0</td>\n",
       "      <td>25892.0</td>\n",
       "      <td>35184.0</td>\n",
       "    </tr>\n",
       "  </tbody>\n",
       "</table>\n",
       "<p>5 rows × 35 columns</p>\n",
       "</div>"
      ],
      "text/plain": [
       "     Area Code    Area Item Code    Item Element Code         Element    Unit  \\\n",
       "4821       119  Latvia       515  Apples         5312  Area harvested      ha   \n",
       "4822       119  Latvia       515  Apples         5419           Yield   hg/ha   \n",
       "4823       119  Latvia       515  Apples         5510      Production  tonnes   \n",
       "4830       119  Latvia        44  Barley         5312  Area harvested      ha   \n",
       "4831       119  Latvia        44  Barley         5419           Yield   hg/ha   \n",
       "\n",
       "          1992      1993      1994  ...      2010     2011     2012     2013  \\\n",
       "4821   12000.0   12000.0   12000.0  ...    3257.0   3379.0   3136.0   2762.0   \n",
       "4822   42500.0   77500.0   15833.0  ...   31701.0  22199.0  30131.0  53407.0   \n",
       "4823   51000.0   93000.0   19000.0  ...   10325.0   7501.0   9449.0  14751.0   \n",
       "4830  350400.0  275300.0  266500.0  ...  100400.0  95900.0  86300.0  84400.0   \n",
       "4831   12372.0   16546.0   18053.0  ...   22749.0  24682.0  28806.0  27559.0   \n",
       "\n",
       "          2014     2015     2016     2017      2018     2019  \n",
       "4821    2653.0   2417.0   2458.0   3331.0    3200.0   3440.0  \n",
       "4822   36272.0  32333.0  40090.0  22408.0   43438.0  30203.0  \n",
       "4823    9623.0   7815.0   9854.0   7464.0   13900.0  10390.0  \n",
       "4830  118200.0  99300.0  94400.0  70300.0  118300.0  86800.0  \n",
       "4831   35431.0  38781.0  30000.0  34267.0   25892.0  35184.0  \n",
       "\n",
       "[5 rows x 35 columns]"
      ]
     },
     "execution_count": 137,
     "metadata": {},
     "output_type": "execute_result"
    }
   ],
   "source": [
    "df_lv.T.T.head()"
   ]
  },
  {
   "cell_type": "code",
   "execution_count": null,
   "metadata": {},
   "outputs": [],
   "source": []
  },
  {
   "cell_type": "code",
   "execution_count": null,
   "metadata": {},
   "outputs": [],
   "source": []
  },
  {
   "cell_type": "code",
   "execution_count": 13,
   "metadata": {},
   "outputs": [
    {
     "data": {
      "text/html": [
       "<div>\n",
       "<style scoped>\n",
       "    .dataframe tbody tr th:only-of-type {\n",
       "        vertical-align: middle;\n",
       "    }\n",
       "\n",
       "    .dataframe tbody tr th {\n",
       "        vertical-align: top;\n",
       "    }\n",
       "\n",
       "    .dataframe thead th {\n",
       "        text-align: right;\n",
       "    }\n",
       "</style>\n",
       "<table border=\"1\" class=\"dataframe\">\n",
       "  <thead>\n",
       "    <tr style=\"text-align: right;\">\n",
       "      <th></th>\n",
       "      <th>Area Code</th>\n",
       "      <th>Area</th>\n",
       "      <th>Item Code</th>\n",
       "      <th>Item</th>\n",
       "      <th>Element Code</th>\n",
       "      <th>Element</th>\n",
       "      <th>Unit</th>\n",
       "      <th>Y1961</th>\n",
       "      <th>Y1962</th>\n",
       "      <th>Y1963</th>\n",
       "      <th>...</th>\n",
       "      <th>Y2010</th>\n",
       "      <th>Y2011</th>\n",
       "      <th>Y2012</th>\n",
       "      <th>Y2013</th>\n",
       "      <th>Y2014</th>\n",
       "      <th>Y2015</th>\n",
       "      <th>Y2016</th>\n",
       "      <th>Y2017</th>\n",
       "      <th>Y2018</th>\n",
       "      <th>Y2019</th>\n",
       "    </tr>\n",
       "  </thead>\n",
       "  <tbody>\n",
       "    <tr>\n",
       "      <th>5056</th>\n",
       "      <td>126</td>\n",
       "      <td>Lithuania</td>\n",
       "      <td>221</td>\n",
       "      <td>Almonds, with shell</td>\n",
       "      <td>5312</td>\n",
       "      <td>Area harvested</td>\n",
       "      <td>ha</td>\n",
       "      <td>NaN</td>\n",
       "      <td>NaN</td>\n",
       "      <td>NaN</td>\n",
       "      <td>...</td>\n",
       "      <td>NaN</td>\n",
       "      <td>NaN</td>\n",
       "      <td>NaN</td>\n",
       "      <td>NaN</td>\n",
       "      <td>NaN</td>\n",
       "      <td>NaN</td>\n",
       "      <td>NaN</td>\n",
       "      <td>NaN</td>\n",
       "      <td>0.0</td>\n",
       "      <td>0.0</td>\n",
       "    </tr>\n",
       "    <tr>\n",
       "      <th>5057</th>\n",
       "      <td>126</td>\n",
       "      <td>Lithuania</td>\n",
       "      <td>221</td>\n",
       "      <td>Almonds, with shell</td>\n",
       "      <td>5510</td>\n",
       "      <td>Production</td>\n",
       "      <td>tonnes</td>\n",
       "      <td>NaN</td>\n",
       "      <td>NaN</td>\n",
       "      <td>NaN</td>\n",
       "      <td>...</td>\n",
       "      <td>NaN</td>\n",
       "      <td>NaN</td>\n",
       "      <td>NaN</td>\n",
       "      <td>NaN</td>\n",
       "      <td>NaN</td>\n",
       "      <td>NaN</td>\n",
       "      <td>NaN</td>\n",
       "      <td>NaN</td>\n",
       "      <td>0.0</td>\n",
       "      <td>0.0</td>\n",
       "    </tr>\n",
       "    <tr>\n",
       "      <th>5058</th>\n",
       "      <td>126</td>\n",
       "      <td>Lithuania</td>\n",
       "      <td>711</td>\n",
       "      <td>Anise, badian, fennel, coriander</td>\n",
       "      <td>5312</td>\n",
       "      <td>Area harvested</td>\n",
       "      <td>ha</td>\n",
       "      <td>NaN</td>\n",
       "      <td>NaN</td>\n",
       "      <td>NaN</td>\n",
       "      <td>...</td>\n",
       "      <td>7400.0</td>\n",
       "      <td>25600.0</td>\n",
       "      <td>5400.0</td>\n",
       "      <td>5600.0</td>\n",
       "      <td>6400.0</td>\n",
       "      <td>5514.0</td>\n",
       "      <td>6548.0</td>\n",
       "      <td>7012.0</td>\n",
       "      <td>NaN</td>\n",
       "      <td>NaN</td>\n",
       "    </tr>\n",
       "    <tr>\n",
       "      <th>5059</th>\n",
       "      <td>126</td>\n",
       "      <td>Lithuania</td>\n",
       "      <td>711</td>\n",
       "      <td>Anise, badian, fennel, coriander</td>\n",
       "      <td>5419</td>\n",
       "      <td>Yield</td>\n",
       "      <td>hg/ha</td>\n",
       "      <td>NaN</td>\n",
       "      <td>NaN</td>\n",
       "      <td>NaN</td>\n",
       "      <td>...</td>\n",
       "      <td>1239.0</td>\n",
       "      <td>859.0</td>\n",
       "      <td>5370.0</td>\n",
       "      <td>5000.0</td>\n",
       "      <td>3906.0</td>\n",
       "      <td>4971.0</td>\n",
       "      <td>11069.0</td>\n",
       "      <td>6409.0</td>\n",
       "      <td>NaN</td>\n",
       "      <td>NaN</td>\n",
       "    </tr>\n",
       "    <tr>\n",
       "      <th>5060</th>\n",
       "      <td>126</td>\n",
       "      <td>Lithuania</td>\n",
       "      <td>711</td>\n",
       "      <td>Anise, badian, fennel, coriander</td>\n",
       "      <td>5510</td>\n",
       "      <td>Production</td>\n",
       "      <td>tonnes</td>\n",
       "      <td>NaN</td>\n",
       "      <td>NaN</td>\n",
       "      <td>NaN</td>\n",
       "      <td>...</td>\n",
       "      <td>917.0</td>\n",
       "      <td>2200.0</td>\n",
       "      <td>2900.0</td>\n",
       "      <td>2800.0</td>\n",
       "      <td>2500.0</td>\n",
       "      <td>2741.0</td>\n",
       "      <td>7248.0</td>\n",
       "      <td>4494.0</td>\n",
       "      <td>NaN</td>\n",
       "      <td>NaN</td>\n",
       "    </tr>\n",
       "    <tr>\n",
       "      <th>...</th>\n",
       "      <td>...</td>\n",
       "      <td>...</td>\n",
       "      <td>...</td>\n",
       "      <td>...</td>\n",
       "      <td>...</td>\n",
       "      <td>...</td>\n",
       "      <td>...</td>\n",
       "      <td>...</td>\n",
       "      <td>...</td>\n",
       "      <td>...</td>\n",
       "      <td>...</td>\n",
       "      <td>...</td>\n",
       "      <td>...</td>\n",
       "      <td>...</td>\n",
       "      <td>...</td>\n",
       "      <td>...</td>\n",
       "      <td>...</td>\n",
       "      <td>...</td>\n",
       "      <td>...</td>\n",
       "      <td>...</td>\n",
       "      <td>...</td>\n",
       "    </tr>\n",
       "    <tr>\n",
       "      <th>5309</th>\n",
       "      <td>126</td>\n",
       "      <td>Lithuania</td>\n",
       "      <td>1729</td>\n",
       "      <td>Treenuts, Total</td>\n",
       "      <td>5312</td>\n",
       "      <td>Area harvested</td>\n",
       "      <td>ha</td>\n",
       "      <td>NaN</td>\n",
       "      <td>NaN</td>\n",
       "      <td>NaN</td>\n",
       "      <td>...</td>\n",
       "      <td>NaN</td>\n",
       "      <td>NaN</td>\n",
       "      <td>NaN</td>\n",
       "      <td>NaN</td>\n",
       "      <td>NaN</td>\n",
       "      <td>NaN</td>\n",
       "      <td>NaN</td>\n",
       "      <td>NaN</td>\n",
       "      <td>0.0</td>\n",
       "      <td>0.0</td>\n",
       "    </tr>\n",
       "    <tr>\n",
       "      <th>5310</th>\n",
       "      <td>126</td>\n",
       "      <td>Lithuania</td>\n",
       "      <td>1729</td>\n",
       "      <td>Treenuts, Total</td>\n",
       "      <td>5510</td>\n",
       "      <td>Production</td>\n",
       "      <td>tonnes</td>\n",
       "      <td>NaN</td>\n",
       "      <td>NaN</td>\n",
       "      <td>NaN</td>\n",
       "      <td>...</td>\n",
       "      <td>NaN</td>\n",
       "      <td>NaN</td>\n",
       "      <td>NaN</td>\n",
       "      <td>NaN</td>\n",
       "      <td>NaN</td>\n",
       "      <td>NaN</td>\n",
       "      <td>NaN</td>\n",
       "      <td>NaN</td>\n",
       "      <td>0.0</td>\n",
       "      <td>0.0</td>\n",
       "    </tr>\n",
       "    <tr>\n",
       "      <th>5311</th>\n",
       "      <td>126</td>\n",
       "      <td>Lithuania</td>\n",
       "      <td>1735</td>\n",
       "      <td>Vegetables Primary</td>\n",
       "      <td>5312</td>\n",
       "      <td>Area harvested</td>\n",
       "      <td>ha</td>\n",
       "      <td>NaN</td>\n",
       "      <td>NaN</td>\n",
       "      <td>NaN</td>\n",
       "      <td>...</td>\n",
       "      <td>12300.0</td>\n",
       "      <td>12646.0</td>\n",
       "      <td>11160.0</td>\n",
       "      <td>11323.0</td>\n",
       "      <td>10745.0</td>\n",
       "      <td>10472.0</td>\n",
       "      <td>13757.0</td>\n",
       "      <td>12998.0</td>\n",
       "      <td>8640.0</td>\n",
       "      <td>8900.0</td>\n",
       "    </tr>\n",
       "    <tr>\n",
       "      <th>5312</th>\n",
       "      <td>126</td>\n",
       "      <td>Lithuania</td>\n",
       "      <td>1735</td>\n",
       "      <td>Vegetables Primary</td>\n",
       "      <td>5419</td>\n",
       "      <td>Yield</td>\n",
       "      <td>hg/ha</td>\n",
       "      <td>NaN</td>\n",
       "      <td>NaN</td>\n",
       "      <td>NaN</td>\n",
       "      <td>...</td>\n",
       "      <td>140904.0</td>\n",
       "      <td>218974.0</td>\n",
       "      <td>234794.0</td>\n",
       "      <td>194635.0</td>\n",
       "      <td>218659.0</td>\n",
       "      <td>181717.0</td>\n",
       "      <td>186829.0</td>\n",
       "      <td>164220.0</td>\n",
       "      <td>192477.0</td>\n",
       "      <td>199831.0</td>\n",
       "    </tr>\n",
       "    <tr>\n",
       "      <th>5313</th>\n",
       "      <td>126</td>\n",
       "      <td>Lithuania</td>\n",
       "      <td>1735</td>\n",
       "      <td>Vegetables Primary</td>\n",
       "      <td>5510</td>\n",
       "      <td>Production</td>\n",
       "      <td>tonnes</td>\n",
       "      <td>NaN</td>\n",
       "      <td>NaN</td>\n",
       "      <td>NaN</td>\n",
       "      <td>...</td>\n",
       "      <td>173312.0</td>\n",
       "      <td>276915.0</td>\n",
       "      <td>262030.0</td>\n",
       "      <td>220385.0</td>\n",
       "      <td>234949.0</td>\n",
       "      <td>190294.0</td>\n",
       "      <td>257021.0</td>\n",
       "      <td>213453.0</td>\n",
       "      <td>166300.0</td>\n",
       "      <td>177850.0</td>\n",
       "    </tr>\n",
       "  </tbody>\n",
       "</table>\n",
       "<p>258 rows × 66 columns</p>\n",
       "</div>"
      ],
      "text/plain": [
       "      Area Code       Area  Item Code                              Item  \\\n",
       "5056        126  Lithuania        221               Almonds, with shell   \n",
       "5057        126  Lithuania        221               Almonds, with shell   \n",
       "5058        126  Lithuania        711  Anise, badian, fennel, coriander   \n",
       "5059        126  Lithuania        711  Anise, badian, fennel, coriander   \n",
       "5060        126  Lithuania        711  Anise, badian, fennel, coriander   \n",
       "...         ...        ...        ...                               ...   \n",
       "5309        126  Lithuania       1729                   Treenuts, Total   \n",
       "5310        126  Lithuania       1729                   Treenuts, Total   \n",
       "5311        126  Lithuania       1735                Vegetables Primary   \n",
       "5312        126  Lithuania       1735                Vegetables Primary   \n",
       "5313        126  Lithuania       1735                Vegetables Primary   \n",
       "\n",
       "      Element Code         Element    Unit  Y1961  Y1962  Y1963  ...  \\\n",
       "5056          5312  Area harvested      ha    NaN    NaN    NaN  ...   \n",
       "5057          5510      Production  tonnes    NaN    NaN    NaN  ...   \n",
       "5058          5312  Area harvested      ha    NaN    NaN    NaN  ...   \n",
       "5059          5419           Yield   hg/ha    NaN    NaN    NaN  ...   \n",
       "5060          5510      Production  tonnes    NaN    NaN    NaN  ...   \n",
       "...            ...             ...     ...    ...    ...    ...  ...   \n",
       "5309          5312  Area harvested      ha    NaN    NaN    NaN  ...   \n",
       "5310          5510      Production  tonnes    NaN    NaN    NaN  ...   \n",
       "5311          5312  Area harvested      ha    NaN    NaN    NaN  ...   \n",
       "5312          5419           Yield   hg/ha    NaN    NaN    NaN  ...   \n",
       "5313          5510      Production  tonnes    NaN    NaN    NaN  ...   \n",
       "\n",
       "         Y2010     Y2011     Y2012     Y2013     Y2014     Y2015     Y2016  \\\n",
       "5056       NaN       NaN       NaN       NaN       NaN       NaN       NaN   \n",
       "5057       NaN       NaN       NaN       NaN       NaN       NaN       NaN   \n",
       "5058    7400.0   25600.0    5400.0    5600.0    6400.0    5514.0    6548.0   \n",
       "5059    1239.0     859.0    5370.0    5000.0    3906.0    4971.0   11069.0   \n",
       "5060     917.0    2200.0    2900.0    2800.0    2500.0    2741.0    7248.0   \n",
       "...        ...       ...       ...       ...       ...       ...       ...   \n",
       "5309       NaN       NaN       NaN       NaN       NaN       NaN       NaN   \n",
       "5310       NaN       NaN       NaN       NaN       NaN       NaN       NaN   \n",
       "5311   12300.0   12646.0   11160.0   11323.0   10745.0   10472.0   13757.0   \n",
       "5312  140904.0  218974.0  234794.0  194635.0  218659.0  181717.0  186829.0   \n",
       "5313  173312.0  276915.0  262030.0  220385.0  234949.0  190294.0  257021.0   \n",
       "\n",
       "         Y2017     Y2018     Y2019  \n",
       "5056       NaN       0.0       0.0  \n",
       "5057       NaN       0.0       0.0  \n",
       "5058    7012.0       NaN       NaN  \n",
       "5059    6409.0       NaN       NaN  \n",
       "5060    4494.0       NaN       NaN  \n",
       "...        ...       ...       ...  \n",
       "5309       NaN       0.0       0.0  \n",
       "5310       NaN       0.0       0.0  \n",
       "5311   12998.0    8640.0    8900.0  \n",
       "5312  164220.0  192477.0  199831.0  \n",
       "5313  213453.0  166300.0  177850.0  \n",
       "\n",
       "[258 rows x 66 columns]"
      ]
     },
     "execution_count": 13,
     "metadata": {},
     "output_type": "execute_result"
    }
   ],
   "source": [
    "df.loc[df['Area'] =='Lithuania']"
   ]
  },
  {
   "cell_type": "code",
   "execution_count": 9,
   "metadata": {},
   "outputs": [
    {
     "data": {
      "text/html": [
       "<div>\n",
       "<style scoped>\n",
       "    .dataframe tbody tr th:only-of-type {\n",
       "        vertical-align: middle;\n",
       "    }\n",
       "\n",
       "    .dataframe tbody tr th {\n",
       "        vertical-align: top;\n",
       "    }\n",
       "\n",
       "    .dataframe thead th {\n",
       "        text-align: right;\n",
       "    }\n",
       "</style>\n",
       "<table border=\"1\" class=\"dataframe\">\n",
       "  <thead>\n",
       "    <tr style=\"text-align: right;\">\n",
       "      <th></th>\n",
       "      <th>Area Code</th>\n",
       "    </tr>\n",
       "  </thead>\n",
       "  <tbody>\n",
       "    <tr>\n",
       "      <th>0</th>\n",
       "      <td>3</td>\n",
       "    </tr>\n",
       "    <tr>\n",
       "      <th>1</th>\n",
       "      <td>3</td>\n",
       "    </tr>\n",
       "    <tr>\n",
       "      <th>2</th>\n",
       "      <td>3</td>\n",
       "    </tr>\n",
       "    <tr>\n",
       "      <th>3</th>\n",
       "      <td>3</td>\n",
       "    </tr>\n",
       "    <tr>\n",
       "      <th>4</th>\n",
       "      <td>3</td>\n",
       "    </tr>\n",
       "  </tbody>\n",
       "</table>\n",
       "</div>"
      ],
      "text/plain": [
       "   Area Code\n",
       "0          3\n",
       "1          3\n",
       "2          3\n",
       "3          3\n",
       "4          3"
      ]
     },
     "execution_count": 9,
     "metadata": {},
     "output_type": "execute_result"
    }
   ],
   "source": [
    "# The dataset of selling prices of crop products is downloaded from:\n",
    "#  https://ec.europa.eu/eurostat/databrowser/view/apri_ap_crpouta"
   ]
  },
  {
   "cell_type": "code",
   "execution_count": null,
   "metadata": {},
   "outputs": [],
   "source": []
  },
  {
   "cell_type": "code",
   "execution_count": null,
   "metadata": {},
   "outputs": [],
   "source": []
  },
  {
   "cell_type": "code",
   "execution_count": null,
   "metadata": {},
   "outputs": [],
   "source": []
  },
  {
   "cell_type": "code",
   "execution_count": null,
   "metadata": {},
   "outputs": [],
   "source": []
  },
  {
   "cell_type": "code",
   "execution_count": null,
   "metadata": {},
   "outputs": [],
   "source": []
  }
 ],
 "metadata": {
  "kernelspec": {
   "display_name": "Python 3.10.6 ('venv': venv)",
   "language": "python",
   "name": "python3"
  },
  "language_info": {
   "codemirror_mode": {
    "name": "ipython",
    "version": 3
   },
   "file_extension": ".py",
   "mimetype": "text/x-python",
   "name": "python",
   "nbconvert_exporter": "python",
   "pygments_lexer": "ipython3",
   "version": "3.10.6"
  },
  "orig_nbformat": 4,
  "vscode": {
   "interpreter": {
    "hash": "3a02c2c5e2ea07a08342dc3b0617d633531a0a20993352e8d8cb30cc84856c47"
   }
  }
 },
 "nbformat": 4,
 "nbformat_minor": 2
}
