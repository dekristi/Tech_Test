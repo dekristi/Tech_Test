{
 "cells": [
  {
   "cell_type": "code",
   "execution_count": 1,
   "metadata": {},
   "outputs": [],
   "source": [
    "# TODO read emojihub.json into a Python data structure\n",
    "# add new key emoji to each dictionary with value of emoji\n",
    "# to do so you will need to extract Unicode numerical value from htmlCode value\n",
    "# save the new data structure to a file called emojihub_with_emoji.json\n",
    "# TIP: remember about ensure_ascii=False and encoding='utf-8'\n",
    "\n",
    "# for those who did not finish the exercise in class\n",
    "# alternative assignment would be to use the classword to find a public API not seen in class\n",
    "# and use requests to get the data and parse it into a Python data structure\n",
    "# then save it to a file\n",
    "\n",
    "# so a single entry should look like this:\n",
    "    # {\n",
    "    #     \"name\": \"pear\",\n",
    "    #     \"category\": \"food and drink\",\n",
    "    #     \"group\": \"food fruit\",\n",
    "    #     \"htmlCode\": [\n",
    "    #         \"&#127824;\"\n",
    "    #     ],\n",
    "    #     \"unicode\": [\n",
    "    #         \"U+1F350\"\n",
    "    #     ],\n",
    "    #     \"emoji\": \"🍐\" \n",
    "    # },\n",
    "    # more fruits would follow"
   ]
  },
  {
   "cell_type": "code",
   "execution_count": 11,
   "metadata": {},
   "outputs": [],
   "source": [
    "import requests\n",
    "import json\n",
    "from ast import BinOp"
   ]
  },
  {
   "cell_type": "code",
   "execution_count": 4,
   "metadata": {},
   "outputs": [
    {
     "data": {
      "text/plain": [
       "'https://emojihub.herokuapp.com/api/all/category_food_and_drink'"
      ]
     },
     "execution_count": 4,
     "metadata": {},
     "output_type": "execute_result"
    }
   ],
   "source": [
    "category_name='food_and_drink'\n",
    "link = 'https://emojihub.herokuapp.com/api/all/category_'+category_name\n",
    "link"
   ]
  },
  {
   "cell_type": "code",
   "execution_count": 5,
   "metadata": {},
   "outputs": [
    {
     "name": "stdout",
     "output_type": "stream",
     "text": [
      "Good Response:  200\n"
     ]
    },
    {
     "data": {
      "text/plain": [
       "list"
      ]
     },
     "execution_count": 5,
     "metadata": {},
     "output_type": "execute_result"
    }
   ],
   "source": [
    "response = requests.get(link)\n",
    "if response.status_code != 200:\n",
    "    print(\"Bad Response: \", response.status_code)\n",
    "    emojihub = None\n",
    "else:\n",
    "    print(\"Good Response: \", response.status_code)\n",
    "    emojihub = json.loads(response.text)\n",
    "    \n",
    "type(emojihub)"
   ]
  },
  {
   "cell_type": "code",
   "execution_count": 8,
   "metadata": {},
   "outputs": [],
   "source": [
    "def prettyJSON(myjson, indent=4):\n",
    "    return json.dumps(json.loads(myjson), indent=indent)"
   ]
  },
  {
   "cell_type": "code",
   "execution_count": 10,
   "metadata": {},
   "outputs": [],
   "source": [
    "with open('emojihub.json', mode='w') as f:\n",
    "    f.write(json.dumps(emojihub,indent=4))"
   ]
  },
  {
   "cell_type": "code",
   "execution_count": 19,
   "metadata": {},
   "outputs": [
    {
     "data": {
      "text/plain": [
       "\"[['U+1F347'], ['U+1F348'], ['U+1F349'], ['U+1F34A'], ['U+1F34B'], ['U+1F34C'], ['U+1F34D'], ['U+1F34E'], ['U+1F34F'], ['U+1F350'], ['U+1F351'], ['U+1F352'], ['U+1F353'], ['U+1F95D'], ['U+1F345'], ['U+1F951'], ['U+1F346'], ['U+1F954'], ['U+1F955'], ['U+1F33D'], ['U+1F336'], ['U+1F952'], ['U+1F344'], ['U+1F95C'], ['U+1F330'], ['U+1F35E'], ['U+1F950'], ['U+1F956'], ['U+1F95E'], ['U+1F9C0'], ['U+1F356'], ['U+1F357'], ['U+1F953'], ['U+1F354'], ['U+1F35F'], ['U+1F355'], ['U+1F32D'], ['U+1F32E'], ['U+1F32F'], ['U+1F959'], ['U+1F95A'], ['U+1F373'], ['U+1F958'], ['U+1F372'], ['U+1F957'], ['U+1F37F'], ['U+1F371'], ['U+1F358'], ['U+1F359'], ['U+1F35A'], ['U+1F35B'], ['U+1F35C'], ['U+1F35D'], ['U+1F360'], ['U+1F362'], ['U+1F363'], ['U+1F364'], ['U+1F365'], ['U+1F361'], ['U+1F366'], ['U+1F367'], ['U+1F368'], ['U+1F369'], ['U+1F36A'], ['U+1F382'], ['U+1F370'], ['U+1F36B'], ['U+1F36C'], ['U+1F36D'], ['U+1F36E'], ['U+1F36F'], ['U+1F37C'], ['U+1F95B'], ['U+2615'], ['U+1F375'], ['U+1F376'], ['U+1F37E'], ['U+1F377'], ['U+1F378'], ['U+1F379'], ['U+1F37A'], ['U+1F37B'], ['U+1F942'], ['U+1F943'], ['U+1F37D'], ['U+1F374'], ['U+1F944'], ['U+1F52A'], ['U+1F3FA']]\""
      ]
     },
     "execution_count": 19,
     "metadata": {},
     "output_type": "execute_result"
    }
   ],
   "source": [
    "emoji = ([sub['unicode'] for sub in emojihub])\n",
    "emoji"
   ]
  },
  {
   "cell_type": "code",
   "execution_count": 52,
   "metadata": {},
   "outputs": [
    {
     "ename": "TypeError",
     "evalue": "'filter' object is not subscriptable",
     "output_type": "error",
     "traceback": [
      "\u001b[1;31m---------------------------------------------------------------------------\u001b[0m",
      "\u001b[1;31mTypeError\u001b[0m                                 Traceback (most recent call last)",
      "Cell \u001b[1;32mIn [52], line 4\u001b[0m\n\u001b[0;32m      2\u001b[0m     emoji \u001b[39m=\u001b[39m emo[\u001b[39m'\u001b[39m\u001b[39municode\u001b[39m\u001b[39m'\u001b[39m]\n\u001b[0;32m      3\u001b[0m     pure_code \u001b[39m=\u001b[39m \u001b[39mfilter\u001b[39m(\u001b[39mlambda\u001b[39;00m x: x\u001b[39m.\u001b[39mstartswith(\u001b[39m'\u001b[39m\u001b[39m+\u001b[39m\u001b[39m'\u001b[39m), emoji)\n\u001b[1;32m----> 4\u001b[0m \u001b[39mprint\u001b[39m(pure_code[\u001b[39m1\u001b[39;49m])\n",
      "\u001b[1;31mTypeError\u001b[0m: 'filter' object is not subscriptable"
     ]
    }
   ],
   "source": [
    "for emo in emojihub:\n",
    "    emoji = emo['unicode']\n",
    "    pure_code = filter(lambda x: x.startswith('+'), emoji)\n",
    "print(pure_code[1])"
   ]
  }
 ],
 "metadata": {
  "kernelspec": {
   "display_name": "Python 3.10.6 ('venv': venv)",
   "language": "python",
   "name": "python3"
  },
  "language_info": {
   "codemirror_mode": {
    "name": "ipython",
    "version": 3
   },
   "file_extension": ".py",
   "mimetype": "text/x-python",
   "name": "python",
   "nbconvert_exporter": "python",
   "pygments_lexer": "ipython3",
   "version": "3.10.6"
  },
  "orig_nbformat": 4,
  "vscode": {
   "interpreter": {
    "hash": "3a02c2c5e2ea07a08342dc3b0617d633531a0a20993352e8d8cb30cc84856c47"
   }
  }
 },
 "nbformat": 4,
 "nbformat_minor": 2
}
