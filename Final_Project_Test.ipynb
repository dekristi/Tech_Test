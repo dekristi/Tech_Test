{
 "cells": [
  {
   "cell_type": "code",
   "execution_count": 1,
   "metadata": {},
   "outputs": [],
   "source": [
    "import pandas as pd\n",
    "from selenium import webdriver\n",
    "from selenium.webdriver.common.keys import Keys\n",
    "from selenium.webdriver.common.by import By\n",
    "from selenium.webdriver.support.ui import Select\n",
    "import time\n",
    "from pandas import DataFrame"
   ]
  },
  {
   "cell_type": "code",
   "execution_count": 2,
   "metadata": {},
   "outputs": [
    {
     "name": "stderr",
     "output_type": "stream",
     "text": [
      "C:\\Users\\Д\\AppData\\Local\\Temp\\ipykernel_5284\\9042446.py:1: DeprecationWarning: executable_path has been deprecated, please pass in a Service object\n",
      "  browser = webdriver.Edge('C:/Users/Kristine/Drivers/msedgedriver.exe')\n"
     ]
    }
   ],
   "source": [
    "browser = webdriver.Edge('C:/Users/Kristine/Drivers/msedgedriver.exe')\n",
    "time.sleep(2)\n",
    "url = 'https://data.world/agriculture/crop-production'\n",
    "browser.get(url)"
   ]
  },
  {
   "cell_type": "code",
   "execution_count": 3,
   "metadata": {},
   "outputs": [],
   "source": [
    "reg_button = browser.find_element(By.XPATH, '//*[@id=\"dataset_view.main_tabs-pane-details\"]/div/div/div[1]/div[4]/div[1]/div/div/div[2]/div[1]/button')\n",
    "reg_button.click()"
   ]
  },
  {
   "cell_type": "code",
   "execution_count": 4,
   "metadata": {},
   "outputs": [],
   "source": [
    "em = 'hristina@tvnet.lv'\n",
    "f_name = 'Kri Li'\n",
    "us_n = 'krili'\n",
    "pw = 'GarNeles789!'"
   ]
  },
  {
   "cell_type": "code",
   "execution_count": 5,
   "metadata": {},
   "outputs": [],
   "source": [
    "browser.find_element(By.XPATH, '//*[@id=\"create_user.email\"]').send_keys(em)  ##//*[@id=\"create_user.email\"]\n",
    "browser.find_element(By.XPATH, '//*[@id=\"create_user.displayName\"]').send_keys(f_name)\n",
    "browser.find_element(By.XPATH, '//*[@id=\"create_user.agentid\"]').send_keys(us_n)\n",
    "browser.find_element(By.XPATH, '//*[@id=\"create_user.password1\"]').send_keys(pw)"
   ]
  },
  {
   "cell_type": "code",
   "execution_count": 6,
   "metadata": {},
   "outputs": [],
   "source": [
    "browser.find_element(By.XPATH, '/html/body/div[13]/div[2]/div/div/div/div/div[2]/div/div/div/form/button').click()"
   ]
  },
  {
   "cell_type": "code",
   "execution_count": 7,
   "metadata": {},
   "outputs": [],
   "source": [
    "browser.find_element(By.XPATH, '/html/body/div[2]/div[2]/div/div/div/div/div[2]/a').click()"
   ]
  },
  {
   "cell_type": "code",
   "execution_count": 8,
   "metadata": {},
   "outputs": [],
   "source": [
    "browser.find_element(By.XPATH, '//*[@id=\"root\"]/div/div[2]/div[2]/div/div[1]/div[2]/div/div/div[4]/div/div/div/div/div[2]/div[1]').click()"
   ]
  },
  {
   "cell_type": "code",
   "execution_count": 13,
   "metadata": {},
   "outputs": [],
   "source": [
    "df = pd.read_csv('https://query.data.world/s/zmbllbphuegmiqcjpgtnrl3xew2jxh') "
   ]
  },
  {
   "cell_type": "code",
   "execution_count": null,
   "metadata": {},
   "outputs": [],
   "source": []
  },
  {
   "cell_type": "code",
   "execution_count": null,
   "metadata": {},
   "outputs": [],
   "source": []
  },
  {
   "cell_type": "code",
   "execution_count": null,
   "metadata": {},
   "outputs": [],
   "source": []
  },
  {
   "cell_type": "code",
   "execution_count": null,
   "metadata": {},
   "outputs": [],
   "source": []
  }
 ],
 "metadata": {
  "kernelspec": {
   "display_name": "Python 3.10.6 ('venv': venv)",
   "language": "python",
   "name": "python3"
  },
  "language_info": {
   "codemirror_mode": {
    "name": "ipython",
    "version": 3
   },
   "file_extension": ".py",
   "mimetype": "text/x-python",
   "name": "python",
   "nbconvert_exporter": "python",
   "pygments_lexer": "ipython3",
   "version": "3.10.6"
  },
  "orig_nbformat": 4,
  "vscode": {
   "interpreter": {
    "hash": "3a02c2c5e2ea07a08342dc3b0617d633531a0a20993352e8d8cb30cc84856c47"
   }
  }
 },
 "nbformat": 4,
 "nbformat_minor": 2
}
