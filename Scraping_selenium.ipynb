{
 "cells": [
  {
   "cell_type": "code",
   "execution_count": 1,
   "metadata": {},
   "outputs": [],
   "source": [
    "import pandas as pd\n",
    "from selenium import webdriver\n",
    "from selenium.webdriver.common.keys import Keys\n",
    "from selenium.webdriver.common.by import By\n",
    "from selenium.webdriver.support.ui import Select\n",
    "import time\n",
    "from pandas import DataFrame\n",
    "import lxml"
   ]
  },
  {
   "cell_type": "code",
   "execution_count": 14,
   "metadata": {},
   "outputs": [],
   "source": [
    "# easier task\n",
    "# 1. open browser with Selenium\n",
    "# 2. go to https://www.ss.com/en/\n",
    "# 3. navigate to Real Estate section \n",
    "# 4. select some region\n",
    "# 5. open it in for sale section \n",
    "\n",
    "# note of course here we could have gone to the page directly by knowing url\n",
    "# but not all pages have such a simple url\n",
    "\n",
    "# you can start here with just url - if you want to skip the above steps\n",
    "# depends on how much time you have\n",
    "# fill in price range\n",
    "# click search\n",
    "# Harder task - possibly homework\n",
    "# your task is to convert above text into a pandas dataframe\n",
    "# using just Selenium to make a list of dictionaries\n",
    "# where each dictionary is a row in the dataframe\n",
    "# and each key is a column name\n",
    "# and each value is a value in the column\n",
    "\n",
    "# save pandas to csv file- you already know this"
   ]
  },
  {
   "cell_type": "code",
   "execution_count": 2,
   "metadata": {},
   "outputs": [
    {
     "name": "stderr",
     "output_type": "stream",
     "text": [
      "C:\\Users\\Д\\AppData\\Local\\Temp\\ipykernel_10068\\4049657640.py:1: DeprecationWarning: executable_path has been deprecated, please pass in a Service object\n",
      "  browser = webdriver.Edge('C:/Users/Kristine/Drivers/msedgedriver.exe')\n"
     ]
    }
   ],
   "source": [
    "browser = webdriver.Edge('C:/Users/Kristine/Drivers/msedgedriver.exe')\n",
    "time.sleep(2)\n",
    "browser.get('https://www.ss.com/en/')\n",
    "assert 'SS' in browser.title"
   ]
  },
  {
   "cell_type": "code",
   "execution_count": 3,
   "metadata": {},
   "outputs": [],
   "source": [
    "real_est = browser.find_element(By.LINK_TEXT, 'Real estate').click()"
   ]
  },
  {
   "cell_type": "code",
   "execution_count": 4,
   "metadata": {},
   "outputs": [],
   "source": [
    "houses = browser.find_element(By.LINK_TEXT, 'Houses, cottages').click()"
   ]
  },
  {
   "cell_type": "code",
   "execution_count": 5,
   "metadata": {},
   "outputs": [],
   "source": [
    "region = browser.find_element(By.PARTIAL_LINK_TEXT, 'Ogre').click()"
   ]
  },
  {
   "cell_type": "code",
   "execution_count": 6,
   "metadata": {},
   "outputs": [
    {
     "data": {
      "text/plain": [
       "selenium.webdriver.remote.webelement.WebElement"
      ]
     },
     "execution_count": 6,
     "metadata": {},
     "output_type": "execute_result"
    }
   ],
   "source": [
    "# get selector by name\n",
    "# https://selenium-python.readthedocs.io/locating-elements.html#locating-elements-by-name\n",
    "category_selector = browser.find_element(By.NAME, 'sid')\n",
    "type(category_selector)"
   ]
  },
  {
   "cell_type": "code",
   "execution_count": 7,
   "metadata": {},
   "outputs": [],
   "source": [
    "select = Select(category_selector).select_by_visible_text('Sell')"
   ]
  },
  {
   "cell_type": "code",
   "execution_count": 8,
   "metadata": {},
   "outputs": [
    {
     "name": "stdout",
     "output_type": "stream",
     "text": [
      "Houses, cottages / Ogre and reg. / Sell\n",
      "All advertisements\n",
      "Today - 2\n",
      "For 2 days - 12\n",
      "For 5 days - 18\n",
      "\n",
      "\n",
      "\n",
      "Price:\n",
      "-  Area:\n",
      "-  Floors:\n",
      "-  Rooms:\n",
      "-  Land area:\n",
      "- \n",
      "Mode:\n",
      "    List\n",
      "    Album\n",
      "    Map\n",
      "     Deal type:\n",
      "All\n",
      "Sell\n",
      "Buy\n",
      "Hand over\n",
      "Will remove\n",
      "Change\n",
      "Miscellaneous\n",
      "City, civil parish:\n",
      "All\n",
      "Ikšķile\n",
      "Ķegums\n",
      "Lielvārde\n",
      "Ogre\n",
      "Birzgales pag.\n",
      "Ikšķiles l. t.\n",
      "Jumpravas pag.\n",
      "Lauberes pag.\n",
      "Lielvārdes l. t.\n",
      "Madlienas pag.\n",
      "Mazozolu pag.\n",
      "Ogresgala pag.\n",
      "Suntažu pag.\n",
      "Other\n",
      "Street:\n",
      " Advertisements\n",
      "date\n",
      "City/civil parish m2 Floors Land area Price\n",
      "Tiek pārdota ziemas māja privātmāju rajonā Ogrē, Lauberes ielā 14. Zemes\n",
      "Ogre 262 2 626 m² 169,000 €\n",
      "Ideāls īpašums – dzīvojamā māja ģimenei Lauberē. 4 istabas, 2 stāvi\n",
      "Lauberes pag.\n",
      "Laubere 103 2 0.20 ha. 65,000 €\n",
      "Pārdodu nepabeigtu jaunbūvi ar zemi. Ir nosiltināti pamati, savilktas si\n",
      "Lielvārde 192 1 1631 m² 39,500 €\n",
      "Skaista māja (Jaunbūve) gleznainā vietā pie upes. Pirmajā stāvā plaš\n",
      "Ikšķiles l. t.\n",
      "Tīnūži 230 2 16700 m² 215,000 €\n",
      "Pārdod nekustamo īpašumu Jumpravas centrā. Šobrīd ēka tiek izmantota kom\n",
      "Jumpravas pag.\n",
      "Jumprava 310 2 1110 m² 115,000 €\n",
      "Pārdod māju ar plašu skatu uz Daugavas ieleju. Piemājas zeme izvietota 3\n",
      "Ķegums 221 3 1217 m² 125,000 €\n",
      "Liels, iekopts ģimenes īpašums Tīnūžos, Ogres novadā, ļoti klusā un aina\n",
      "Ikšķiles l. t.\n",
      "Tīnūži 325 3 1.32 ha. 265,000 €\n",
      "Продаётся двухэтажный дом с хорошей возможностью заниматься коммерческой\n",
      "Lielvārde 300 2 2500 m² 280,000 €\n",
      "Pārdodu ķieģeļu māju Ogrē, klusā, skaistā rajonā, parka zona, uz kalna,\n",
      "Ogre 190 2 1200 m² 120,000 €\n",
      "Pārdod pusi mājas Ogrē, jaukā privātmāju rajonā. Īpašums sastāv no māj\n",
      "Ogre 84 2 450 m² 75,000 €\n",
      "Pārdod māju Ogrē, Peldu ielā 2. Māja atrodas superīgā lokācijā, klusā O\n",
      "Ogre 223 2 700 m² 175,000 €\n",
      "Šī īpašuma iegādei ir iespējams saņemt Bankas līdzfinansējumu un atbalst\n",
      "Ogre 134 2 814 m² 127,000 €\n",
      "Pārdod māju Ogres pilsētā, ļoti labā atrašanas vietā, mājai nepieciešams\n",
      "Ogre 55 1 602 m² 47,900 €\n",
      "Pie Daugavas. Iekonservēta būve ar kapitālu pagrabstāvu, 100 ampēru elek\n",
      "Ikšķile 158 2 453 m² 63,200 €\n",
      "Tiek pārdota uzreiz, pilnvērtīgi apdzīvojama māja ar zemi 2270m2 netālu\n",
      "Suntažu pag.\n",
      "Glāznieki 49 1 2270 m² 40,000 €\n",
      "Pārdodu koptu vasarnīcu ar dārzu, pirti, garāžu, siltumnīcu. Kadastra nu\n",
      "Ogre 79 2 0.64 ha. 60,000 €\n",
      "Tiek pārdota plaša un kvalitatīva ģimenes māja ar iekoptu dārzu (595m2)\n",
      "Ogre 329 4 595 m² 169,000 €\n",
      "Pārdod īpašumu Ogres privātmāju rajonā - dzīvojamo māju (130m2) ar lielu\n",
      "Ogre 131 2 1770 149,800 €\n",
      "Dārzs Ogre ar dārza māju / pirti, ērta piekļuve pie īpašuma , pilsēta Og\n",
      "Ogre 35 1 585 m² 14,000 €\n",
      "Pārdod zemes gabalu 1290 m2 ar nepabeigtu dzīvojamo ēku. Ēkai uzbūvēts 1\n",
      "Ogresgala pag.\n",
      "Ogresgals 97 1 1290 m² 36,000 €\n",
      "Pārdod divstāvu māju Ikšķilē Lībiešu ielā 31 ar dārzu, kopējā zemes plat\n",
      "Ikšķile 300 2 1200 m² 260,000 €\n",
      "Pārdod lielisku ģimenes māju Ikšķilē ar ļoti ērtu un funkcionālu plānoju\n",
      "Ikšķile 309 2 1280 m² 269,000 €\n",
      "Pārdod zemes gabalu 0, 5 Ha, 20 Km, no Rīgas robežas, Tīnūžos ( Ikšķiles\n",
      "Ikšķiles l. t.\n",
      "Tīnūži 160 2 5000 m² 70,000 €\n",
      "Pārdošanā jaunbūve ar pelēko apdari. Īpašums atrodas slēgtā privātmāju t\n",
      "Ogre 160 1 1546 m² 194,000 €\n",
      "Продается дом 190 m2 , 2 этажа и 4 Га земли, с мебелью, техникой , инстр\n",
      "Madlienas pag.\n",
      "Madliena 190 2 4 ha. 90,000 €\n",
      "Skats uz Daugavu. Reti skaista vieta mieram un labsajūtai. Divām vai v\n",
      "Lielvārde 178 2 1858 m² 120,000 €\n",
      "Pārdod māju Ogres pilsētā, ļoti labā atrašanas vietā, mājai nepieciešams\n",
      "Ogre 55 1 602 m² 48,900 €\n",
      "Pārdod māju 197.4 kv. m. Zemes gabals 695, 5 kv. m. Līdz stacijai Ikšķil\n",
      "Ikšķile 197 2 695.50 m² 183,000 €\n",
      "Īpašnieks pārdod daudzstāvu ēku. Elektrības, ūdens un kanalizācijas piev\n",
      "Lielvārde 2611 5 2695 m² 200,000 €\n",
      "Pārdodu kompaktu 2 stāvu, 3 istabu māju. Mājai ir malkas centrālā apkure\n",
      "Lielvārde 89 2 1094 m² 77,000 €\n",
      "\n",
      "Previous    1 2 3    Next\n",
      "\n",
      "Show selected advertisements  \n"
     ]
    }
   ],
   "source": [
    "# to identify table rows\n",
    "rows = browser.find_elements(By.XPATH, '//*[@id=\"filter_frm\"]/table[2]/tbody/tr')\n",
    "# to identify table columns\n",
    "cols = browser.find_elements(By.XPATH, '//*[@id=\"filter_frm\"]/table[2]/tbody/tr[3]/td')\n",
    "# to get row count with len method\n",
    "row_count = len(rows)\n",
    "# to get column count with len method\n",
    "col_count = len(cols)\n",
    "# to traverse through the table rows excluding headers\n",
    "for i in range (2, row_count + 1) :\n",
    "# to traverse through the table column\n",
    "    for j in range (1, col_count + 1) :\n",
    "# to get all the cell data with text method\n",
    "        data = browser.find_element(By.XPATH, '//tr[\"+str(i)+\"]/td[\"+str(j)+\"]').text\n",
    "print(data)"
   ]
  },
  {
   "cell_type": "code",
   "execution_count": null,
   "metadata": {},
   "outputs": [],
   "source": []
  },
  {
   "cell_type": "code",
   "execution_count": 19,
   "metadata": {},
   "outputs": [],
   "source": [
    "df_header = browser.find_elements(By.ID, 'head_line')"
   ]
  },
  {
   "cell_type": "code",
   "execution_count": 43,
   "metadata": {},
   "outputs": [
    {
     "data": {
      "text/html": [
       "<div>\n",
       "<style scoped>\n",
       "    .dataframe tbody tr th:only-of-type {\n",
       "        vertical-align: middle;\n",
       "    }\n",
       "\n",
       "    .dataframe tbody tr th {\n",
       "        vertical-align: top;\n",
       "    }\n",
       "\n",
       "    .dataframe thead th {\n",
       "        text-align: right;\n",
       "    }\n",
       "</style>\n",
       "<table border=\"1\" class=\"dataframe\">\n",
       "  <thead>\n",
       "    <tr style=\"text-align: right;\">\n",
       "      <th></th>\n",
       "    </tr>\n",
       "  </thead>\n",
       "  <tbody>\n",
       "  </tbody>\n",
       "</table>\n",
       "</div>"
      ],
      "text/plain": [
       "Empty DataFrame\n",
       "Columns: []\n",
       "Index: []"
      ]
     },
     "execution_count": 43,
     "metadata": {},
     "output_type": "execute_result"
    }
   ],
   "source": [
    "df = pd.DataFrame(columns=[t.text for t in df_header])\n",
    "df.iloc[:, 1:]"
   ]
  },
  {
   "cell_type": "code",
   "execution_count": 45,
   "metadata": {},
   "outputs": [
    {
     "name": "stdout",
     "output_type": "stream",
     "text": [
      "[<selenium.webdriver.remote.webelement.WebElement (session=\"e9d20d51d20929553dbfda7ae5ebb922\", element=\"eb493594-c9a0-4a8c-97e0-54a33ddc02e8\")>]\n"
     ]
    }
   ],
   "source": [
    "print(df_header)"
   ]
  },
  {
   "cell_type": "code",
   "execution_count": 13,
   "metadata": {},
   "outputs": [],
   "source": [
    "table_trs = browser.find_elements(By.XPATH, '//*[@id=\"filter_frm\"]/table[2]/tbody/tr[i]/td[j]')\n",
    "value_list = []\n",
    "for i, j in table_trs[3:]:\n",
    "    value_list.append({\n",
    "        j:i.find_elements(By.TAG_NAME, \"td\")[0].text\n",
    "    })\n",
    "\n",
    "df = pd.DataFrame(value_list)"
   ]
  },
  {
   "cell_type": "code",
   "execution_count": 14,
   "metadata": {},
   "outputs": [
    {
     "data": {
      "text/plain": [
       "[]"
      ]
     },
     "execution_count": 14,
     "metadata": {},
     "output_type": "execute_result"
    }
   ],
   "source": [
    "value_list"
   ]
  },
  {
   "cell_type": "code",
   "execution_count": 32,
   "metadata": {},
   "outputs": [
    {
     "name": "stdout",
     "output_type": "stream",
     "text": [
      "<selenium.webdriver.remote.webelement.WebElement (session=\"e9d20d51d20929553dbfda7ae5ebb922\", element=\"eb493594-c9a0-4a8c-97e0-54a33ddc02e8\")>\n"
     ]
    }
   ],
   "source": [
    "rows = browser.find_elements(By.XPATH, '//*[@id=\"filter_frm\"]/table[2]/tbody/tr')\n",
    "print(rows[0])"
   ]
  },
  {
   "cell_type": "code",
   "execution_count": 30,
   "metadata": {},
   "outputs": [
    {
     "name": "stdout",
     "output_type": "stream",
     "text": [
      "row 0:\n",
      " Advertisements\n",
      "date\n",
      "City/civil parish m2 Floors Land area Price\n",
      "row 1:\n",
      "Skaista māja (Jaunbūve) gleznainā vietā pie upes. Pirmajā stāvā plaš\n",
      "Ikšķiles l. t.\n",
      "Tīnūži 230 2 16700 m² 215,000 €\n",
      "row 2:\n",
      "Pārdod nekustamo īpašumu Jumpravas centrā. Šobrīd ēka tiek izmantota kom\n",
      "Jumpravas pag.\n",
      "Jumprava 310 2 1110 m² 115,000 €\n",
      "row 3:\n",
      "Pārdod māju ar plašu skatu uz Daugavas ieleju. Piemājas zeme izvietota 3\n",
      "Ķegums 221 3 1217 m² 125,000 €\n",
      "row 4:\n",
      "Liels, iekopts ģimenes īpašums Tīnūžos, Ogres novadā, ļoti klusā un aina\n",
      "Ikšķiles l. t.\n",
      "Tīnūži 325 3 1.32 ha. 265,000 €\n",
      "row 5:\n",
      "Продаётся двухэтажный дом с хорошей возможностью заниматься коммерческой\n",
      "Lielvārde 300 2 2500 m² 280,000 €\n",
      "row 6:\n",
      "Pārdodu ķieģeļu māju Ogrē, klusā, skaistā rajonā, parka zona, uz kalna,\n",
      "Ogre 190 2 1200 m² 120,000 €\n",
      "row 7:\n",
      "Pārdod pusi mājas Ogrē, jaukā privātmāju rajonā. Īpašums sastāv no māj\n",
      "Ogre 84 2 450 m² 75,000 €\n",
      "row 8:\n",
      "Pārdod māju Ogrē, Peldu ielā 2. Māja atrodas superīgā lokācijā, klusā O\n",
      "Ogre 223 2 700 m² 175,000 €\n",
      "row 9:\n",
      "Šī īpašuma iegādei ir iespējams saņemt Bankas līdzfinansējumu un atbalst\n",
      "Ogre 134 2 814 m² 127,000 €\n",
      "row 10:\n",
      "Pārdod māju Ogres pilsētā, ļoti labā atrašanas vietā, mājai nepieciešams\n",
      "Ogre 55 1 602 m² 47,900 €\n",
      "row 11:\n",
      "Pie Daugavas. Iekonservēta būve ar kapitālu pagrabstāvu, 100 ampēru elek\n",
      "Ikšķile 158 2 453 m² 63,200 €\n",
      "row 12:\n",
      "Tiek pārdota uzreiz, pilnvērtīgi apdzīvojama māja ar zemi 2270m2 netālu\n",
      "Suntažu pag.\n",
      "Glāznieki 49 1 2270 m² 40,000 €\n",
      "row 13:\n",
      "Pārdodu koptu vasarnīcu ar dārzu, pirti, garāžu, siltumnīcu. Kadastra nu\n",
      "Ogre 79 2 0.64 ha. 60,000 €\n",
      "row 14:\n",
      "Tiek pārdota plaša un kvalitatīva ģimenes māja ar iekoptu dārzu (595m2)\n",
      "Ogre 329 4 595 m² 169,000 €\n",
      "row 15:\n",
      "Pārdod īpašumu Ogres privātmāju rajonā - dzīvojamo māju (130m2) ar lielu\n",
      "Ogre 131 2 1770 149,800 €\n",
      "row 16:\n",
      "Dārzs Ogre ar dārza māju / pirti, ērta piekļuve pie īpašuma , pilsēta Og\n",
      "Ogre 35 1 585 m² 14,000 €\n",
      "row 17:\n",
      "Pārdod zemes gabalu 1290 m2 ar nepabeigtu dzīvojamo ēku. Ēkai uzbūvēts 1\n",
      "Ogresgala pag.\n",
      "Ogresgals 97 1 1290 m² 36,000 €\n",
      "row 18:\n",
      "Pārdod divstāvu māju Ikšķilē Lībiešu ielā 31 ar dārzu, kopējā zemes plat\n",
      "Ikšķile 300 2 1200 m² 260,000 €\n",
      "row 19:\n",
      "Pārdod lielisku ģimenes māju Ikšķilē ar ļoti ērtu un funkcionālu plānoju\n",
      "Ikšķile 309 2 1280 m² 269,000 €\n",
      "row 20:\n",
      "Pārdod zemes gabalu 0, 5 Ha, 20 Km, no Rīgas robežas, Tīnūžos ( Ikšķiles\n",
      "Ikšķiles l. t.\n",
      "Tīnūži 160 2 5000 m² 70,000 €\n",
      "row 21:\n",
      "Pārdošanā jaunbūve ar pelēko apdari. Īpašums atrodas slēgtā privātmāju t\n",
      "Ogre 160 1 1546 m² 194,000 €\n",
      "row 22:\n",
      "Продается дом 190 m2 , 2 этажа и 4 Га земли, с мебелью, техникой , инстр\n",
      "Madlienas pag.\n",
      "Madliena 190 2 4 ha. 90,000 €\n",
      "row 23:\n",
      "Skats uz Daugavu. Reti skaista vieta mieram un labsajūtai. Divām vai v\n",
      "Lielvārde 178 2 1858 m² 120,000 €\n",
      "row 24:\n",
      "Pārdod māju Ogres pilsētā, ļoti labā atrašanas vietā, mājai nepieciešams\n",
      "Ogre 55 1 602 m² 48,900 €\n",
      "row 25:\n",
      "Pārdod māju 197.4 kv. m. Zemes gabals 695, 5 kv. m. Līdz stacijai Ikšķil\n",
      "Ikšķile 197 2 695.50 m² 183,000 €\n",
      "row 26:\n",
      "Īpašnieks pārdod daudzstāvu ēku. Elektrības, ūdens un kanalizācijas piev\n",
      "Lielvārde 2611 5 2695 m² 200,000 €\n",
      "row 27:\n",
      "Pārdodu kompaktu 2 stāvu, 3 istabu māju. Mājai ir malkas centrālā apkure\n",
      "Lielvārde 89 2 1094 m² 77,000 €\n",
      "row 28:\n",
      "Kompakta, ērta, ekspluatācijā nodota 4 guļamistabu privātmāja ar iekoptu\n",
      "Ikšķile 340 2 1290 m² 327,000 €\n",
      "row 29:\n",
      "Pārdodas privātmāja Ķeguma centrā, skaistā vietā pie kalna ar dižozolu.\n",
      "Ķegums 358 3 1421 m² 159,000 €\n",
      "row 30:\n",
      "Saimnieki pārdod kapitāli būvētu jaunbūvi Ikšķilē, Ādamlaukā. Jaunbūve s\n",
      "Ikšķile 150 1 1725 m² 210,000 €\n",
      "row 31:\n",
      "\n"
     ]
    }
   ],
   "source": [
    "for idx, r in enumerate(rows):\n",
    "    print('row {}:'.format(idx))\n",
    "    print('{}'.format(r.text))"
   ]
  },
  {
   "cell_type": "code",
   "execution_count": 38,
   "metadata": {},
   "outputs": [
    {
     "name": "stdout",
     "output_type": "stream",
     "text": [
      "32\n"
     ]
    }
   ],
   "source": [
    "num_rows = len(browser.find_elements(By.XPATH, '//*[@id=\"filter_frm\"]/table[2]/tbody/tr'))\n",
    "print(num_rows)"
   ]
  },
  {
   "cell_type": "code",
   "execution_count": 42,
   "metadata": {},
   "outputs": [
    {
     "name": "stdout",
     "output_type": "stream",
     "text": [
      "8\n"
     ]
    }
   ],
   "source": [
    "num_cols = len(browser.find_elements(By.XPATH, '//*[@id=\"filter_frm\"]/table[2]/tbody/tr[2]/td'))\n",
    "print(num_cols)"
   ]
  },
  {
   "cell_type": "code",
   "execution_count": 44,
   "metadata": {},
   "outputs": [],
   "source": [
    "table = browser.find_elements(By.XPATH, '//*[@id=\"filter_frm\"]/table[2]/tbody')"
   ]
  },
  {
   "cell_type": "code",
   "execution_count": 4,
   "metadata": {},
   "outputs": [
    {
     "data": {
      "text/html": [
       "<div>\n",
       "<style scoped>\n",
       "    .dataframe tbody tr th:only-of-type {\n",
       "        vertical-align: middle;\n",
       "    }\n",
       "\n",
       "    .dataframe tbody tr th {\n",
       "        vertical-align: top;\n",
       "    }\n",
       "\n",
       "    .dataframe thead th {\n",
       "        text-align: right;\n",
       "    }\n",
       "</style>\n",
       "<table border=\"1\" class=\"dataframe\">\n",
       "  <thead>\n",
       "    <tr style=\"text-align: right;\">\n",
       "      <th></th>\n",
       "      <th>0</th>\n",
       "      <th>1</th>\n",
       "      <th>2</th>\n",
       "    </tr>\n",
       "  </thead>\n",
       "  <tbody>\n",
       "    <tr>\n",
       "      <th>0</th>\n",
       "      <td>Ikšķile Ķegums Lielvārde Ogre Birzgales pag.</td>\n",
       "      <td>Ikšķiles l. t. Jumpravas pag. Ķeipenes pag. La...</td>\n",
       "      <td>Madlienas pag. Mazozolu pag. Ogresgala pag. Su...</td>\n",
       "    </tr>\n",
       "  </tbody>\n",
       "</table>\n",
       "</div>"
      ],
      "text/plain": [
       "                                              0  \\\n",
       "0  Ikšķile Ķegums Lielvārde Ogre Birzgales pag.   \n",
       "\n",
       "                                                   1  \\\n",
       "0  Ikšķiles l. t. Jumpravas pag. Ķeipenes pag. La...   \n",
       "\n",
       "                                                   2  \n",
       "0  Madlienas pag. Mazozolu pag. Ogresgala pag. Su...  "
      ]
     },
     "execution_count": 4,
     "metadata": {},
     "output_type": "execute_result"
    }
   ],
   "source": []
  }
 ],
 "metadata": {
  "kernelspec": {
   "display_name": "Python 3.10.6 ('venv': venv)",
   "language": "python",
   "name": "python3"
  },
  "language_info": {
   "codemirror_mode": {
    "name": "ipython",
    "version": 3
   },
   "file_extension": ".py",
   "mimetype": "text/x-python",
   "name": "python",
   "nbconvert_exporter": "python",
   "pygments_lexer": "ipython3",
   "version": "3.10.6"
  },
  "orig_nbformat": 4,
  "vscode": {
   "interpreter": {
    "hash": "3a02c2c5e2ea07a08342dc3b0617d633531a0a20993352e8d8cb30cc84856c47"
   }
  }
 },
 "nbformat": 4,
 "nbformat_minor": 2
}
