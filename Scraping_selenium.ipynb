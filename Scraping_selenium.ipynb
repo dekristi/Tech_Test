{
 "cells": [
  {
   "cell_type": "code",
   "execution_count": 2,
   "metadata": {},
   "outputs": [],
   "source": [
    "import pandas as pd\n",
    "from selenium import webdriver\n",
    "from selenium.webdriver.common.keys import Keys\n",
    "from selenium.webdriver.common.by import By\n",
    "from selenium.webdriver.support.ui import Select\n",
    "import time\n",
    "from pandas import DataFrame\n",
    "import lxml"
   ]
  },
  {
   "cell_type": "code",
   "execution_count": 14,
   "metadata": {},
   "outputs": [],
   "source": [
    "# easier task\n",
    "# 1. open browser with Selenium\n",
    "# 2. go to https://www.ss.com/en/\n",
    "# 3. navigate to Real Estate section \n",
    "# 4. select some region\n",
    "# 5. open it in for sale section \n",
    "\n",
    "# note of course here we could have gone to the page directly by knowing url\n",
    "# but not all pages have such a simple url\n",
    "\n",
    "# you can start here with just url - if you want to skip the above steps\n",
    "# depends on how much time you have\n",
    "# fill in price range\n",
    "# click search\n",
    "# Harder task - possibly homework\n",
    "# your task is to convert above text into a pandas dataframe\n",
    "# using just Selenium to make a list of dictionaries\n",
    "# where each dictionary is a row in the dataframe\n",
    "# and each key is a column name\n",
    "# and each value is a value in the column\n",
    "\n",
    "# save pandas to csv file- you already know this"
   ]
  },
  {
   "cell_type": "code",
   "execution_count": 2,
   "metadata": {},
   "outputs": [
    {
     "name": "stderr",
     "output_type": "stream",
     "text": [
      "C:\\Users\\Д\\AppData\\Local\\Temp\\ipykernel_13924\\4049657640.py:1: DeprecationWarning: executable_path has been deprecated, please pass in a Service object\n",
      "  browser = webdriver.Edge('C:/Users/Kristine/Drivers/msedgedriver.exe')\n"
     ]
    }
   ],
   "source": [
    "browser = webdriver.Edge('C:/Users/Kristine/Drivers/msedgedriver.exe')\n",
    "time.sleep(2)\n",
    "browser.get('https://www.ss.com/en/')\n",
    "assert 'SS' in browser.title"
   ]
  },
  {
   "cell_type": "code",
   "execution_count": 3,
   "metadata": {},
   "outputs": [],
   "source": [
    "real_est = browser.find_element(By.LINK_TEXT, 'Real estate')"
   ]
  },
  {
   "cell_type": "code",
   "execution_count": 4,
   "metadata": {},
   "outputs": [],
   "source": [
    "real_est.click()"
   ]
  },
  {
   "cell_type": "code",
   "execution_count": 5,
   "metadata": {},
   "outputs": [],
   "source": [
    "houses = browser.find_element(By.LINK_TEXT, 'Houses, cottages')"
   ]
  },
  {
   "cell_type": "code",
   "execution_count": 6,
   "metadata": {},
   "outputs": [],
   "source": [
    "houses.click()"
   ]
  },
  {
   "cell_type": "code",
   "execution_count": 7,
   "metadata": {},
   "outputs": [],
   "source": [
    "region = browser.find_element(By.PARTIAL_LINK_TEXT, 'Ogre')"
   ]
  },
  {
   "cell_type": "code",
   "execution_count": 8,
   "metadata": {},
   "outputs": [],
   "source": [
    "region.click()"
   ]
  },
  {
   "cell_type": "code",
   "execution_count": 9,
   "metadata": {},
   "outputs": [
    {
     "data": {
      "text/plain": [
       "selenium.webdriver.remote.webelement.WebElement"
      ]
     },
     "execution_count": 9,
     "metadata": {},
     "output_type": "execute_result"
    }
   ],
   "source": [
    "# get selector by name\n",
    "# https://selenium-python.readthedocs.io/locating-elements.html#locating-elements-by-name\n",
    "category_selector = browser.find_element(By.NAME, 'sid')\n",
    "type(category_selector)"
   ]
  },
  {
   "cell_type": "code",
   "execution_count": 10,
   "metadata": {},
   "outputs": [
    {
     "data": {
      "text/plain": [
       "selenium.webdriver.support.select.Select"
      ]
     },
     "execution_count": 10,
     "metadata": {},
     "output_type": "execute_result"
    }
   ],
   "source": [
    "select = Select(category_selector)\n",
    "type(select)"
   ]
  },
  {
   "cell_type": "code",
   "execution_count": 11,
   "metadata": {},
   "outputs": [],
   "source": [
    "select.select_by_visible_text('Sell')"
   ]
  },
  {
   "cell_type": "code",
   "execution_count": 12,
   "metadata": {},
   "outputs": [],
   "source": [
    "df_header = browser.find_elements(By.CLASS_NAME, 'a18')"
   ]
  },
  {
   "cell_type": "code",
   "execution_count": 13,
   "metadata": {},
   "outputs": [
    {
     "data": {
      "text/html": [
       "<div>\n",
       "<style scoped>\n",
       "    .dataframe tbody tr th:only-of-type {\n",
       "        vertical-align: middle;\n",
       "    }\n",
       "\n",
       "    .dataframe tbody tr th {\n",
       "        vertical-align: top;\n",
       "    }\n",
       "\n",
       "    .dataframe thead th {\n",
       "        text-align: right;\n",
       "    }\n",
       "</style>\n",
       "<table border=\"1\" class=\"dataframe\">\n",
       "  <thead>\n",
       "    <tr style=\"text-align: right;\">\n",
       "      <th></th>\n",
       "      <th>City/civil parish</th>\n",
       "      <th>m2</th>\n",
       "      <th>Floors</th>\n",
       "      <th>Land area</th>\n",
       "      <th>Price</th>\n",
       "    </tr>\n",
       "  </thead>\n",
       "  <tbody>\n",
       "  </tbody>\n",
       "</table>\n",
       "</div>"
      ],
      "text/plain": [
       "Empty DataFrame\n",
       "Columns: [City/civil parish, m2, Floors, Land area, Price]\n",
       "Index: []"
      ]
     },
     "execution_count": 13,
     "metadata": {},
     "output_type": "execute_result"
    }
   ],
   "source": [
    "df = pd.DataFrame(columns=[t.text for t in df_header])\n",
    "df.head()"
   ]
  },
  {
   "cell_type": "code",
   "execution_count": null,
   "metadata": {},
   "outputs": [],
   "source": []
  },
  {
   "cell_type": "code",
   "execution_count": 27,
   "metadata": {},
   "outputs": [],
   "source": [
    "rows = browser.find_elements(By.XPATH, '//*[@id=\"filter_frm\"]/table[2]/tbody')"
   ]
  },
  {
   "cell_type": "code",
   "execution_count": 39,
   "metadata": {},
   "outputs": [
    {
     "name": "stdout",
     "output_type": "stream",
     "text": [
      "row 0:\n",
      " Advertisements\n",
      "date\n",
      "City/civil parish m2 Floors Land area Price\n",
      "Pie Daugavas. Iekonservēta būve ar kapitālu pagrabstāvu, 100 ampēru elek\n",
      "Ikšķile 158 2 453 m² 63,200 €\n",
      "Tiek pārdota uzreiz, pilnvērtīgi apdzīvojama māja ar zemi 2270m2 netālu\n",
      "Suntažu pag.\n",
      "Glāznieki 49 1 2270 m² 40,000 €\n",
      "Pārdodu koptu vasarnīcu ar dārzu, pirti, garāžu, siltumnīcu. Kadastra nu\n",
      "Ogre 79 2 0.64 ha. 60,000 €\n",
      "Tiek pārdota plaša un kvalitatīva ģimenes māja ar iekoptu dārzu (595m2)\n",
      "Ogre 329 4 595 m² 169,000 €\n",
      "Pārdod īpašumu Ogres privātmāju rajonā - dzīvojamo māju (130m2) ar lielu\n",
      "Ogre 131 2 1770 149,800 €\n",
      "Dārzs Ogre ar dārza māju / pirti, ērta piekļuve pie īpašuma , pilsēta Og\n",
      "Ogre 35 1 585 m² 14,000 €\n",
      "Pārdod zemes gabalu 1290 m2 ar nepabeigtu dzīvojamo ēku. Ēkai uzbūvēts 1\n",
      "Ogresgala pag.\n",
      "Ogresgals 97 1 1290 m² 36,000 €\n",
      "Pārdod divstāvu māju Ikšķilē Lībiešu ielā 31 ar dārzu, kopējā zemes plat\n",
      "Ikšķile 300 2 1200 m² 260,000 €\n",
      "Pārdod lielisku ģimenes māju Ikšķilē ar ļoti ērtu un funkcionālu plānoju\n",
      "Ikšķile 309 2 1280 m² 269,000 €\n",
      "Pārdod zemes gabalu 0, 5 Ha, 20 Km, no Rīgas robežas, Tīnūžos ( Ikšķiles\n",
      "Ikšķiles l. t.\n",
      "Tīnūži 160 2 5000 m² 70,000 €\n",
      "Pārdošanā jaunbūve ar pelēko apdari. Īpašums atrodas slēgtā privātmāju t\n",
      "Ogre 160 1 1546 m² 194,000 €\n",
      "Продается дом 190 m2 , 2 этажа и 4 Га земли, с мебелью, техникой , инстр\n",
      "Madlienas pag.\n",
      "Madliena 190 2 4 ha. 90,000 €\n",
      "Skats uz Daugavu. Reti skaista vieta mieram un labsajūtai. Divām vai v\n",
      "Lielvārde 178 2 1858 m² 120,000 €\n",
      "Pārdod māju Ogres pilsētā, ļoti labā atrašanas vietā, mājai nepieciešams\n",
      "Ogre 55 1 602 m² 48,900 €\n",
      "Pārdod māju 197.4 kv. m. Zemes gabals 695, 5 kv. m. Līdz stacijai Ikšķil\n",
      "Ikšķile 197 2 695.50 m² 183,000 €\n",
      "Pārdod māju ar plašu skatu uz Daugavas ieleju. Piemājas zeme izvietota 3\n",
      "Ķegums 221 3 1217 m² 125,000 €\n",
      "Īpašnieks pārdod daudzstāvu ēku. Elektrības, ūdens un kanalizācijas piev\n",
      "Lielvārde 2611 5 2695 m² 200,000 €\n",
      "Pārdodu kompaktu 2 stāvu, 3 istabu māju. Mājai ir malkas centrālā apkure\n",
      "Lielvārde 89 2 1094 m² 77,000 €\n",
      "Kompakta, ērta, ekspluatācijā nodota 4 guļamistabu privātmāja ar iekoptu\n",
      "Ikšķile 340 2 1290 m² 327,000 €\n",
      "Pārdodas privātmāja Ķeguma centrā, skaistā vietā pie kalna ar dižozolu.\n",
      "Ķegums 358 3 1421 m² 159,000 €\n",
      "Saimnieki pārdod kapitāli būvētu jaunbūvi Ikšķilē, Ādamlaukā. Jaunbūve s\n",
      "Ikšķile 150 1 1725 m² 210,000 €\n",
      "Īpašnieks pārdod nekustamo īpašumu (privātmāju) skaistā un klusā vietā O\n",
      "Ikšķiles l. t.\n",
      "Tīnūži 272 2 5500 m² 169,000 €\n",
      "Tiek pārdota divstāvu ģimenes māja 275 m². Mājai ir ērts plānojums. 1.\n",
      "Lielvārdes l. t.\n",
      "Kaibala 275 2 6000 m² 240,000 €\n",
      "Pārdod māju Ogres pilsētā, ļoti labā atrašanas vietā, + pilsētas ūdens\n",
      "Ogre 55 1 602 m² 49,900 €\n",
      "Cena saprāta robežās ir runājama. Zeme ir nomā, ir atdalīta un ir piedāv\n",
      "Ķeipenes pag.\n",
      "Ķeipene 205 1 12000 m² 25,000 €\n",
      "Piedāvājam iegādāties plašu un skaistu vasarnīcu ar zemi Ogrē Vasarnī\n",
      "Ogre 76 2 477 m² 34,000 €\n",
      "Šī īpašuma iegādei ir iespējams saņemt Bankas līdzfinansējumu un atbalst\n",
      "Ogre 134 2 814 m² 132,000 €\n",
      "Tiek pārdots nekustamais īpašums, zemes gabals ar saimniecības ēku - div\n",
      "Ogresgala pag.\n",
      "Ogresgals 1580 2 1580 m² 60,000 €\n",
      "Tiek pārdota ziemas māja privātmāju rajonā Ogrē, Lauberes ielā 14. Zemes\n",
      "Ogre 262 2 626 m² 174,000 €\n",
      "Pārdodu privātmāju 244, 4 m2 ar iekoptu dārzu/zaļo zonu, zeme 1209 m2.\n",
      "Ķegums 244 2 1209 m² 129,000 €\n"
     ]
    }
   ],
   "source": [
    "for idx, r in enumerate(rows):\n",
    "    print('row {}:'.format(idx))\n",
    "    print('{}'.format(r.text))"
   ]
  },
  {
   "cell_type": "code",
   "execution_count": 38,
   "metadata": {},
   "outputs": [
    {
     "name": "stdout",
     "output_type": "stream",
     "text": [
      "32\n"
     ]
    }
   ],
   "source": [
    "num_rows = len(browser.find_elements(By.XPATH, '//*[@id=\"filter_frm\"]/table[2]/tbody/tr'))\n",
    "print(num_rows)"
   ]
  },
  {
   "cell_type": "code",
   "execution_count": 42,
   "metadata": {},
   "outputs": [
    {
     "name": "stdout",
     "output_type": "stream",
     "text": [
      "8\n"
     ]
    }
   ],
   "source": [
    "num_cols = len(browser.find_elements(By.XPATH, '//*[@id=\"filter_frm\"]/table[2]/tbody/tr[2]/td'))\n",
    "print(num_cols)"
   ]
  },
  {
   "cell_type": "code",
   "execution_count": 44,
   "metadata": {},
   "outputs": [],
   "source": [
    "table = browser.find_elements(By.XPATH, '//*[@id=\"filter_frm\"]/table[2]/tbody')"
   ]
  },
  {
   "cell_type": "code",
   "execution_count": 4,
   "metadata": {},
   "outputs": [
    {
     "data": {
      "text/html": [
       "<div>\n",
       "<style scoped>\n",
       "    .dataframe tbody tr th:only-of-type {\n",
       "        vertical-align: middle;\n",
       "    }\n",
       "\n",
       "    .dataframe tbody tr th {\n",
       "        vertical-align: top;\n",
       "    }\n",
       "\n",
       "    .dataframe thead th {\n",
       "        text-align: right;\n",
       "    }\n",
       "</style>\n",
       "<table border=\"1\" class=\"dataframe\">\n",
       "  <thead>\n",
       "    <tr style=\"text-align: right;\">\n",
       "      <th></th>\n",
       "      <th>0</th>\n",
       "      <th>1</th>\n",
       "      <th>2</th>\n",
       "    </tr>\n",
       "  </thead>\n",
       "  <tbody>\n",
       "    <tr>\n",
       "      <th>0</th>\n",
       "      <td>Ikšķile Ķegums Lielvārde Ogre Birzgales pag.</td>\n",
       "      <td>Ikšķiles l. t. Jumpravas pag. Ķeipenes pag. La...</td>\n",
       "      <td>Madlienas pag. Mazozolu pag. Ogresgala pag. Su...</td>\n",
       "    </tr>\n",
       "  </tbody>\n",
       "</table>\n",
       "</div>"
      ],
      "text/plain": [
       "                                              0  \\\n",
       "0  Ikšķile Ķegums Lielvārde Ogre Birzgales pag.   \n",
       "\n",
       "                                                   1  \\\n",
       "0  Ikšķiles l. t. Jumpravas pag. Ķeipenes pag. La...   \n",
       "\n",
       "                                                   2  \n",
       "0  Madlienas pag. Mazozolu pag. Ogresgala pag. Su...  "
      ]
     },
     "execution_count": 4,
     "metadata": {},
     "output_type": "execute_result"
    }
   ],
   "source": []
  }
 ],
 "metadata": {
  "kernelspec": {
   "display_name": "Python 3.10.6 ('venv': venv)",
   "language": "python",
   "name": "python3"
  },
  "language_info": {
   "codemirror_mode": {
    "name": "ipython",
    "version": 3
   },
   "file_extension": ".py",
   "mimetype": "text/x-python",
   "name": "python",
   "nbconvert_exporter": "python",
   "pygments_lexer": "ipython3",
   "version": "3.10.6"
  },
  "orig_nbformat": 4,
  "vscode": {
   "interpreter": {
    "hash": "3a02c2c5e2ea07a08342dc3b0617d633531a0a20993352e8d8cb30cc84856c47"
   }
  }
 },
 "nbformat": 4,
 "nbformat_minor": 2
}
